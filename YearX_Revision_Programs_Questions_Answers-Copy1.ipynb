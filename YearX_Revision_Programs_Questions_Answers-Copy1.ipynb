{
 "cells": [
  {
   "cell_type": "markdown",
   "metadata": {},
   "source": [
    "<b>1.0 Programs with FOR loops"
   ]
  },
  {
   "cell_type": "markdown",
   "metadata": {},
   "source": [
    "<b> (1) Write a Function using a FOR loop which generates the 1st 10 numbers.\n"
   ]
  },
  {
   "cell_type": "code",
   "execution_count": 1,
   "metadata": {},
   "outputs": [],
   "source": [
    "def Numbers():\n",
    "    for j in range(1,11):\n",
    "        print(j)"
   ]
  },
  {
   "cell_type": "code",
   "execution_count": 2,
   "metadata": {},
   "outputs": [
    {
     "name": "stdout",
     "output_type": "stream",
     "text": [
      "1\n",
      "2\n",
      "3\n",
      "4\n",
      "5\n",
      "6\n",
      "7\n",
      "8\n",
      "9\n",
      "10\n"
     ]
    }
   ],
   "source": [
    "Numbers()"
   ]
  },
  {
   "cell_type": "markdown",
   "metadata": {},
   "source": [
    "<b>(2) Write a Function using a FOR loop which generates the 1st 5 square numbers."
   ]
  },
  {
   "cell_type": "code",
   "execution_count": 5,
   "metadata": {},
   "outputs": [],
   "source": [
    "def Square_Numbers():\n",
    "    for j in range(1,6):\n",
    "        Square = j**2\n",
    "        print(Square)"
   ]
  },
  {
   "cell_type": "code",
   "execution_count": 6,
   "metadata": {},
   "outputs": [
    {
     "name": "stdout",
     "output_type": "stream",
     "text": [
      "1\n",
      "4\n",
      "9\n",
      "16\n",
      "25\n"
     ]
    }
   ],
   "source": [
    "Square_Numbers()"
   ]
  },
  {
   "cell_type": "markdown",
   "metadata": {},
   "source": [
    "**2.0 PROGRAMS involving Formulas**"
   ]
  },
  {
   "cell_type": "markdown",
   "metadata": {},
   "source": [
    "<b>(3) Write a Function which returns the volume of a cube with a given length.\n"
   ]
  },
  {
   "cell_type": "code",
   "execution_count": 7,
   "metadata": {},
   "outputs": [],
   "source": [
    "def Cube_Volume(length):\n",
    "    Volume = length**3\n",
    "    return(Volume)"
   ]
  },
  {
   "cell_type": "code",
   "execution_count": 8,
   "metadata": {},
   "outputs": [
    {
     "name": "stdout",
     "output_type": "stream",
     "text": [
      "The Volume of the Cube is  64  cm cubed\n"
     ]
    }
   ],
   "source": [
    "Result = Cube_Volume(4)\n",
    "print(\"The Volume of the Cube is \", Result, \" cm cubed\")"
   ]
  },
  {
   "cell_type": "markdown",
   "metadata": {},
   "source": [
    "**(4)Write a Function which returns the area of a circle with a given radius.**\n"
   ]
  },
  {
   "cell_type": "code",
   "execution_count": 5,
   "metadata": {},
   "outputs": [],
   "source": [
    "def Area_Circle(radius):\n",
    "    PI = 3.142\n",
    "    Area = PI*(radius**2)\n",
    "    return(Area)"
   ]
  },
  {
   "cell_type": "code",
   "execution_count": 6,
   "metadata": {},
   "outputs": [
    {
     "name": "stdout",
     "output_type": "stream",
     "text": [
      "The Area of the Circle is  78.55  cm square\n"
     ]
    }
   ],
   "source": [
    "Result = Area_Circle(5)\n",
    "print(\"The Area of the Circle is \", Result, \" cm square\")"
   ]
  },
  {
   "cell_type": "markdown",
   "metadata": {},
   "source": [
    "**(5)Write a Function which returns the sum of 3 numbers. This function will have 3 parameters**\n"
   ]
  },
  {
   "cell_type": "code",
   "execution_count": 8,
   "metadata": {},
   "outputs": [],
   "source": [
    "def Addition(a,b,c):\n",
    "    Sum = a+b+c\n",
    "    return(Sum)"
   ]
  },
  {
   "cell_type": "code",
   "execution_count": 9,
   "metadata": {},
   "outputs": [
    {
     "name": "stdout",
     "output_type": "stream",
     "text": [
      "18\n"
     ]
    }
   ],
   "source": [
    "Result = Addition(5,6,7)\n",
    "print(Result)"
   ]
  },
  {
   "cell_type": "markdown",
   "metadata": {},
   "source": [
    "**(6) Write a Function which returns the product of 2 numbers. This function has 2 parameters.**\n"
   ]
  },
  {
   "cell_type": "code",
   "execution_count": 11,
   "metadata": {},
   "outputs": [],
   "source": [
    "def Multiplication(a,b):\n",
    "    Product = a*b\n",
    "    return(Product)"
   ]
  },
  {
   "cell_type": "code",
   "execution_count": 12,
   "metadata": {},
   "outputs": [
    {
     "name": "stdout",
     "output_type": "stream",
     "text": [
      "56\n"
     ]
    }
   ],
   "source": [
    "Result = Multiplication(7,8)\n",
    "print(Result)"
   ]
  },
  {
   "cell_type": "markdown",
   "metadata": {},
   "source": [
    "**3.0 Programs involving the MOD operator**"
   ]
  },
  {
   "cell_type": "markdown",
   "metadata": {},
   "source": [
    "<b>(7) Write a Function which outputs the 1st 5 even numbers.\n"
   ]
  },
  {
   "cell_type": "code",
   "execution_count": 13,
   "metadata": {},
   "outputs": [],
   "source": [
    "def Even_Numbers():\n",
    "    for j in range(1,11):\n",
    "        if j%2==0:\n",
    "            print(j)"
   ]
  },
  {
   "cell_type": "code",
   "execution_count": 14,
   "metadata": {},
   "outputs": [
    {
     "name": "stdout",
     "output_type": "stream",
     "text": [
      "2\n",
      "4\n",
      "6\n",
      "8\n",
      "10\n"
     ]
    }
   ],
   "source": [
    "Even_Numbers()"
   ]
  },
  {
   "cell_type": "markdown",
   "metadata": {},
   "source": [
    "<b>(8) Write a Function which checks if a number if divisible by 3.\n"
   ]
  },
  {
   "cell_type": "code",
   "execution_count": 16,
   "metadata": {},
   "outputs": [],
   "source": [
    "def Divisible_By_Three(x):\n",
    "    if x%3== 0:\n",
    "        print(x, \" is divisible by 3\")\n",
    "    else:\n",
    "        print(x,\"  is not divisible by 3\")"
   ]
  },
  {
   "cell_type": "code",
   "execution_count": 17,
   "metadata": {},
   "outputs": [
    {
     "name": "stdout",
     "output_type": "stream",
     "text": [
      "33  is divisible by 3\n"
     ]
    }
   ],
   "source": [
    "Divisible_By_Three(33)"
   ]
  },
  {
   "cell_type": "code",
   "execution_count": 18,
   "metadata": {},
   "outputs": [
    {
     "name": "stdout",
     "output_type": "stream",
     "text": [
      "16   is not divisible by 3\n"
     ]
    }
   ],
   "source": [
    "Divisible_By_Three(16)"
   ]
  },
  {
   "cell_type": "markdown",
   "metadata": {},
   "source": [
    "**4.0 A Program using the WHILE loop**"
   ]
  },
  {
   "cell_type": "markdown",
   "metadata": {},
   "source": [
    "<br>(9) Write a Function which checks if the correct password has been entered."
   ]
  },
  {
   "cell_type": "code",
   "execution_count": 23,
   "metadata": {},
   "outputs": [],
   "source": [
    "def Password_Check():\n",
    "    Password = \"chocolate\"\n",
    "    Active = False\n",
    "    while Active == False:\n",
    "        User_Input = input(\"Enter a Password \")\n",
    "        if User_Input == Password:\n",
    "            Active = True\n",
    "        else:\n",
    "            print(\"Try again\")\n",
    "            \n",
    "    print(\"Well done. You have entered the correct Password\")\n",
    "        \n",
    "        \n",
    ",        "
   ]
  },
  {
   "cell_type": "code",
   "execution_count": 24,
   "metadata": {},
   "outputs": [
    {
     "name": "stdout",
     "output_type": "stream",
     "text": [
      "Enter a Password Egg\n",
      "Try again\n",
      "Enter a Password Bread\n",
      "Try again\n",
      "Enter a Password chocolate\n",
      "Well done. You have entered the correct Password\n"
     ]
    }
   ],
   "source": [
    "Password_Check()"
   ]
  },
  {
   "cell_type": "markdown",
   "metadata": {},
   "source": [
    "**5.0 Programs with File Handling Commands such as Creating a File, Writing to the File, Reading and Outputting the Contents of the File**"
   ]
  },
  {
   "cell_type": "markdown",
   "metadata": {},
   "source": [
    "<b> (10) Write a Function which creates a File called Book.txt and writes 2 lines of text to it.\n"
   ]
  },
  {
   "cell_type": "code",
   "execution_count": 25,
   "metadata": {},
   "outputs": [],
   "source": [
    "def Writing_File():\n",
    "    with open(\"Book.txt\",\"w\") as Book:\n",
    "        Book.write(\"\\nAlice in Wonderland\")\n",
    "        Book.write(\"\\nRobin Hood\")\n",
    "    Book.close()"
   ]
  },
  {
   "cell_type": "code",
   "execution_count": 26,
   "metadata": {},
   "outputs": [],
   "source": [
    "Writing_File()"
   ]
  },
  {
   "cell_type": "markdown",
   "metadata": {},
   "source": [
    "<b>(11) Write a Function which reads the contents of the file Book.txt and outputs them."
   ]
  },
  {
   "cell_type": "code",
   "execution_count": 4,
   "metadata": {},
   "outputs": [],
   "source": [
    "# Using a FOR statement to read each line of the file\n",
    "def Read_File():\n",
    "    with open(\"Book.txt\") as file:\n",
    "        for line in file:\n",
    "            print(line, end=\"\")\n",
    "        \n",
    "    print()"
   ]
  },
  {
   "cell_type": "code",
   "execution_count": 5,
   "metadata": {
    "scrolled": true
   },
   "outputs": [
    {
     "name": "stdout",
     "output_type": "stream",
     "text": [
      "\n",
      "Alice in Wonderland\n",
      "Robin Hood\n"
     ]
    }
   ],
   "source": [
    "Read_File()"
   ]
  },
  {
   "cell_type": "markdown",
   "metadata": {},
   "source": [
    "**6.0 A Program which uses the RANDOM module in a Dice Game with 2 Players**"
   ]
  },
  {
   "cell_type": "markdown",
   "metadata": {},
   "source": [
    "<b>(12) Write a Function where 2 Players each roll a six-sided dice 3 times and the program reports which Player has won or whether it is a draw.\n"
   ]
  },
  {
   "cell_type": "code",
   "execution_count": 11,
   "metadata": {},
   "outputs": [],
   "source": [
    "def Dice_Game():\n",
    "    import random\n",
    "    \n",
    "    Player1_Score = 0\n",
    "    Player2_Score = 0\n",
    "    \n",
    "    for Throws_of_Dice in range(3):\n",
    "        Player1 = random.randint(1,6)\n",
    "        Player2 = random.randint(1,6)\n",
    "        \n",
    "        print(\"Player1 just rolled a \", Player1)\n",
    "        print(\"Player2 just rolled a \", Player2)\n",
    "        print()\n",
    "        \n",
    "        Player1_Score = Player1_Score + Player1\n",
    "        Player2_Score = Player2_Score + Player2\n",
    "        \n",
    "        \n",
    "        print(\"Player1's Score so far is \", Player1_Score)\n",
    "        print(\"Player2's Score so far is \", Player2_Score)\n",
    "        print()\n",
    "        \n",
    "        \n",
    "        \n",
    "# Determing who has won or if it is a draw\n",
    "\n",
    "\n",
    "\n",
    "    if Player1_Score > Player2_Score:\n",
    "        print(\"Player1 has won\")\n",
    "    elif Player1_Score < Player2_Score:\n",
    "        print(\"Player2 has won\")\n",
    "    else:\n",
    "        print(\"There is a Draw\")\n",
    "        \n",
    "        \n",
    "        \n",
    "        \n",
    "        \n",
    "        \n",
    "        \n",
    "        \n",
    "        \n",
    "        \n",
    "        \n",
    "        \n",
    "        \n",
    "        "
   ]
  },
  {
   "cell_type": "code",
   "execution_count": 12,
   "metadata": {
    "scrolled": true
   },
   "outputs": [
    {
     "name": "stdout",
     "output_type": "stream",
     "text": [
      "Player1 just rolled a  3\n",
      "Player2 just rolled a  3\n",
      "\n",
      "Player1's Score so far is  3\n",
      "Player2's Score so far is  3\n",
      "\n",
      "Player1 just rolled a  2\n",
      "Player2 just rolled a  2\n",
      "\n",
      "Player1's Score so far is  5\n",
      "Player2's Score so far is  5\n",
      "\n",
      "Player1 just rolled a  6\n",
      "Player2 just rolled a  4\n",
      "\n",
      "Player1's Score so far is  11\n",
      "Player2's Score so far is  9\n",
      "\n",
      "Player1 has won\n"
     ]
    }
   ],
   "source": [
    "Dice_Game()"
   ]
  },
  {
   "cell_type": "code",
   "execution_count": null,
   "metadata": {},
   "outputs": [],
   "source": []
  }
 ],
 "metadata": {
  "kernelspec": {
   "display_name": "Python 3",
   "language": "python",
   "name": "python3"
  },
  "language_info": {
   "codemirror_mode": {
    "name": "ipython",
    "version": 3
   },
   "file_extension": ".py",
   "mimetype": "text/x-python",
   "name": "python",
   "nbconvert_exporter": "python",
   "pygments_lexer": "ipython3",
   "version": "3.7.4"
  }
 },
 "nbformat": 4,
 "nbformat_minor": 2
}
