{
  "cells": [
    {
      "cell_type": "markdown",
      "metadata": {
        "id": "view-in-github",
        "colab_type": "text"
      },
      "source": [
        "<a href=\"https://colab.research.google.com/github/lnandi1/New_Example/blob/master/Elective_Jan2022_Max.ipynb\" target=\"_parent\"><img src=\"https://colab.research.google.com/assets/colab-badge.svg\" alt=\"Open In Colab\"/></a>"
      ]
    },
    {
      "cell_type": "markdown",
      "metadata": {
        "id": "hzYnLUFo8bBC"
      },
      "source": [
        "**<h1>Introduction</h1>**\n",
        "<h3>We are going to start Coding (Programming).\n",
        "<br>We are going to start Coding (Programming) in the Python Programming Language.</h3>\n"
      ]
    },
    {
      "cell_type": "markdown",
      "metadata": {
        "id": "RmpdOr-Z8n04"
      },
      "source": [
        "## **Section 1.0  Looking at Output**"
      ]
    },
    {
      "cell_type": "code",
      "execution_count": null,
      "metadata": {
        "colab": {
          "base_uri": "https://localhost:8080/"
        },
        "id": "yxoO_Ozj8byt",
        "outputId": "9280a8c6-1aa7-40f4-9b24-a86be4302cbc"
      },
      "outputs": [
        {
          "name": "stdout",
          "output_type": "stream",
          "text": [
            "Hello World\n"
          ]
        }
      ],
      "source": [
        "# Example 1\n",
        "print(\"Hello World\")"
      ]
    },
    {
      "cell_type": "code",
      "execution_count": null,
      "metadata": {
        "colab": {
          "base_uri": "https://localhost:8080/"
        },
        "id": "4Vq0ESRd3YV7",
        "outputId": "742988f9-a184-434b-cab9-1029c895f71b"
      },
      "outputs": [
        {
          "name": "stdout",
          "output_type": "stream",
          "text": [
            "Hello world\n"
          ]
        }
      ],
      "source": [
        "print(\"Hello world\")"
      ]
    },
    {
      "cell_type": "code",
      "execution_count": null,
      "metadata": {
        "colab": {
          "base_uri": "https://localhost:8080/"
        },
        "id": "7z0aLVgwgnZL",
        "outputId": "b10641d8-24cf-4d0b-a228-28a0b14af575"
      },
      "outputs": [
        {
          "name": "stdout",
          "output_type": "stream",
          "text": [
            "Hello world\n"
          ]
        }
      ],
      "source": [
        "print(\"Hello world\")"
      ]
    },
    {
      "cell_type": "code",
      "execution_count": null,
      "metadata": {
        "colab": {
          "base_uri": "https://localhost:8080/"
        },
        "id": "CbatkxVP8DAl",
        "outputId": "f3f1ecac-a031-41be-867d-ad3b8547639f"
      },
      "outputs": [
        {
          "name": "stdout",
          "output_type": "stream",
          "text": [
            "My name is Alex\n"
          ]
        }
      ],
      "source": [
        "# Example 2\n",
        "print(\"My name is Alex\")"
      ]
    },
    {
      "cell_type": "code",
      "execution_count": null,
      "metadata": {
        "colab": {
          "base_uri": "https://localhost:8080/"
        },
        "id": "qglo81dsgxB7",
        "outputId": "083969e5-e08e-44ce-fece-935896981e2e"
      },
      "outputs": [
        {
          "name": "stdout",
          "output_type": "stream",
          "text": [
            "My name is Max\n"
          ]
        }
      ],
      "source": [
        "print(\"My name is Max\")"
      ]
    },
    {
      "cell_type": "code",
      "execution_count": null,
      "metadata": {
        "colab": {
          "base_uri": "https://localhost:8080/"
        },
        "id": "pkFhKztj3ef5",
        "outputId": "9495ceb3-10eb-489c-c014-4bf40241fd52"
      },
      "outputs": [
        {
          "name": "stdout",
          "output_type": "stream",
          "text": [
            "My name is max\n"
          ]
        }
      ],
      "source": [
        "print(\"My name is max\")"
      ]
    },
    {
      "cell_type": "code",
      "execution_count": null,
      "metadata": {
        "colab": {
          "base_uri": "https://localhost:8080/"
        },
        "id": "tiUQwrjl8L0M",
        "outputId": "485bdb62-6a1c-4984-d9ba-f9c06258f919"
      },
      "outputs": [
        {
          "name": "stdout",
          "output_type": "stream",
          "text": [
            "To be or Not to be\n",
            "\n",
            "That is the Question\n",
            "\n",
            "Whether it is nobler in the mind\n",
            "\n"
          ]
        }
      ],
      "source": [
        "# Example 3\n",
        "print(\"To be or Not to be\\n\")\n",
        "print(\"That is the Question\\n\")\n",
        "print(\"Whether it is nobler in the mind\\n\")"
      ]
    },
    {
      "cell_type": "code",
      "execution_count": null,
      "metadata": {
        "colab": {
          "base_uri": "https://localhost:8080/"
        },
        "id": "74rGAMaEB479",
        "outputId": "2aa82609-e172-4959-b577-ce22ab015262"
      },
      "outputs": [
        {
          "name": "stdout",
          "output_type": "stream",
          "text": [
            "to be or not to be\n",
            "that is the question\n",
            "whether it is nobler in the mind\n"
          ]
        }
      ],
      "source": [
        "print(\"to be or not to be\")\n",
        "print(\"that is the question\")\n",
        "print(\"whether it is nobler in the mind\")"
      ]
    },
    {
      "cell_type": "markdown",
      "metadata": {
        "id": "8XhFLiQm8wKW"
      },
      "source": [
        "**Exercise 1 - Now write your own programs displaying some output**"
      ]
    },
    {
      "cell_type": "code",
      "execution_count": null,
      "metadata": {
        "colab": {
          "base_uri": "https://localhost:8080/"
        },
        "id": "iOt9WRK1rUKv",
        "outputId": "6005944a-0e7d-4a5f-c1ef-f23051389b45"
      },
      "outputs": [
        {
          "name": "stdout",
          "output_type": "stream",
          "text": [
            "Hello World\n"
          ]
        }
      ],
      "source": [
        "#Insert Code Here\n",
        "print (\"Hello World\")"
      ]
    },
    {
      "cell_type": "code",
      "execution_count": null,
      "metadata": {
        "colab": {
          "base_uri": "https://localhost:8080/"
        },
        "id": "uP3yG_4OuNX-",
        "outputId": "132cb523-433a-46d1-e0ad-5b8cb68dda2d"
      },
      "outputs": [
        {
          "name": "stdout",
          "output_type": "stream",
          "text": [
            "My name is Max\n"
          ]
        }
      ],
      "source": [
        "print (\"My name is Max\")"
      ]
    },
    {
      "cell_type": "code",
      "execution_count": null,
      "metadata": {
        "colab": {
          "base_uri": "https://localhost:8080/"
        },
        "id": "t3Y8KkEjEMRm",
        "outputId": "7ec5cb2a-6305-4c43-9e94-3e896b492301"
      },
      "outputs": [
        {
          "name": "stdout",
          "output_type": "stream",
          "text": [
            "i love sport\n"
          ]
        }
      ],
      "source": [
        "print (\"i love sport\")"
      ]
    },
    {
      "cell_type": "markdown",
      "metadata": {
        "id": "OSwJ_GzW8-v8"
      },
      "source": [
        "## **Section 2.0 Arithmetic Operations**"
      ]
    },
    {
      "cell_type": "code",
      "execution_count": null,
      "metadata": {
        "colab": {
          "base_uri": "https://localhost:8080/"
        },
        "id": "EBk0t0fl9DdV",
        "outputId": "f51bd0b4-1796-4592-8b04-a24f61592b9a"
      },
      "outputs": [
        {
          "name": "stdout",
          "output_type": "stream",
          "text": [
            "22\n"
          ]
        }
      ],
      "source": [
        "#Example 4\n",
        "#Calculating the Sum\n",
        "Apples = 10\n",
        "Bananas = 12\n",
        "Total = Apples + Bananas\n",
        "print(Total)"
      ]
    },
    {
      "cell_type": "code",
      "execution_count": null,
      "metadata": {
        "colab": {
          "base_uri": "https://localhost:8080/"
        },
        "id": "TV0NVITfOJ_H",
        "outputId": "2e9b6d10-6210-42e2-9c56-5b044edbb9d3"
      },
      "outputs": [
        {
          "name": "stdout",
          "output_type": "stream",
          "text": [
            "Enter the length of the rectangle in cm 13\n",
            "the area of the rectangle is 169 in cm\n"
          ]
        }
      ],
      "source": [
        "Length= int(input(\"Enter the length of the rectangle in cm\"))\n",
        "Area= Length * Length \n",
        "print (\"the area of the rectangle is\",Area, \"in cm\")\n"
      ]
    },
    {
      "cell_type": "code",
      "execution_count": null,
      "metadata": {
        "colab": {
          "base_uri": "https://localhost:8080/"
        },
        "id": "vJrRimXq9SHT",
        "outputId": "2c75dddd-2ae6-46ef-c5e1-3a16d57f84ef"
      },
      "outputs": [
        {
          "name": "stdout",
          "output_type": "stream",
          "text": [
            "20\n"
          ]
        }
      ],
      "source": [
        "# Example 5\n",
        "# The Difference between two numbers\n",
        "A = 100\n",
        "B = 80\n",
        "Total = A - B\n",
        "print(Total)"
      ]
    },
    {
      "cell_type": "code",
      "execution_count": null,
      "metadata": {
        "colab": {
          "background_save": true,
          "base_uri": "https://localhost:8080/",
          "height": 1000
        },
        "id": "5umFG37r80aS",
        "outputId": "2ee90022-287f-45b6-9d34-6210ac2c031b"
      },
      "outputs": [
        {
          "name": "stderr",
          "output_type": "stream",
          "text": [
            "ERROR:root:Internal Python error in the inspect module.\n",
            "Below is the traceback from this internal error.\n",
            "\n"
          ]
        },
        {
          "name": "stdout",
          "output_type": "stream",
          "text": [
            "Traceback (most recent call last):\n",
            "  File \"/usr/local/lib/python3.7/dist-packages/ipykernel/kernelbase.py\", line 729, in _input_request\n",
            "    ident, reply = self.session.recv(self.stdin_socket, 0)\n",
            "  File \"/usr/local/lib/python3.7/dist-packages/jupyter_client/session.py\", line 803, in recv\n",
            "    msg_list = socket.recv_multipart(mode, copy=copy)\n",
            "  File \"/usr/local/lib/python3.7/dist-packages/zmq/sugar/socket.py\", line 727, in recv_multipart\n",
            "    parts = [self.recv(flags, copy=copy, track=track)]\n",
            "  File \"zmq/backend/cython/socket.pyx\", line 803, in zmq.backend.cython.socket.Socket.recv\n",
            "  File \"zmq/backend/cython/socket.pyx\", line 839, in zmq.backend.cython.socket.Socket.recv\n",
            "  File \"zmq/backend/cython/socket.pyx\", line 188, in zmq.backend.cython.socket._recv_copy\n",
            "  File \"zmq/backend/cython/checkrc.pxd\", line 13, in zmq.backend.cython.checkrc._check_rc\n",
            "KeyboardInterrupt\n",
            "\n",
            "During handling of the above exception, another exception occurred:\n",
            "\n",
            "Traceback (most recent call last):\n",
            "  File \"/usr/local/lib/python3.7/dist-packages/IPython/core/interactiveshell.py\", line 2882, in run_code\n",
            "    exec(code_obj, self.user_global_ns, self.user_ns)\n",
            "  File \"<ipython-input-3-9da21889e98e>\", line 1, in <module>\n",
            "    num = input(\"Please enter a number: \")\n",
            "  File \"/usr/local/lib/python3.7/dist-packages/ipykernel/kernelbase.py\", line 704, in raw_input\n",
            "    password=False,\n",
            "  File \"/usr/local/lib/python3.7/dist-packages/ipykernel/kernelbase.py\", line 734, in _input_request\n",
            "    raise KeyboardInterrupt\n",
            "KeyboardInterrupt\n",
            "\n",
            "During handling of the above exception, another exception occurred:\n",
            "\n",
            "Traceback (most recent call last):\n",
            "  File \"/usr/local/lib/python3.7/dist-packages/IPython/core/interactiveshell.py\", line 1823, in showtraceback\n",
            "    stb = value._render_traceback_()\n",
            "AttributeError: 'KeyboardInterrupt' object has no attribute '_render_traceback_'\n",
            "\n",
            "During handling of the above exception, another exception occurred:\n",
            "\n",
            "Traceback (most recent call last):\n",
            "  File \"/usr/local/lib/python3.7/dist-packages/IPython/core/ultratb.py\", line 1132, in get_records\n",
            "    return _fixed_getinnerframes(etb, number_of_lines_of_context, tb_offset)\n",
            "  File \"/usr/local/lib/python3.7/dist-packages/IPython/core/ultratb.py\", line 313, in wrapped\n",
            "    return f(*args, **kwargs)\n",
            "  File \"/usr/local/lib/python3.7/dist-packages/IPython/core/ultratb.py\", line 358, in _fixed_getinnerframes\n",
            "    records = fix_frame_records_filenames(inspect.getinnerframes(etb, context))\n",
            "  File \"/usr/lib/python3.7/inspect.py\", line 1502, in getinnerframes\n",
            "    frameinfo = (tb.tb_frame,) + getframeinfo(tb, context)\n",
            "  File \"/usr/lib/python3.7/inspect.py\", line 1460, in getframeinfo\n",
            "    filename = getsourcefile(frame) or getfile(frame)\n",
            "  File \"/usr/lib/python3.7/inspect.py\", line 696, in getsourcefile\n",
            "    if getattr(getmodule(object, filename), '__loader__', None) is not None:\n",
            "  File \"/usr/lib/python3.7/inspect.py\", line 742, in getmodule\n",
            "    os.path.realpath(f)] = module.__name__\n",
            "  File \"/usr/lib/python3.7/posixpath.py\", line 395, in realpath\n",
            "    path, ok = _joinrealpath(filename[:0], filename, {})\n",
            "  File \"/usr/lib/python3.7/posixpath.py\", line 429, in _joinrealpath\n",
            "    if not islink(newpath):\n",
            "  File \"/usr/lib/python3.7/posixpath.py\", line 171, in islink\n",
            "    st = os.lstat(path)\n",
            "KeyboardInterrupt\n"
          ]
        },
        {
          "ename": "TypeError",
          "evalue": "ignored",
          "output_type": "error",
          "traceback": [
            "\u001b[0;31m---------------------------------------------------------------------------\u001b[0m",
            "\u001b[0;31mKeyboardInterrupt\u001b[0m                         Traceback (most recent call last)",
            "\u001b[0;32m/usr/local/lib/python3.7/dist-packages/ipykernel/kernelbase.py\u001b[0m in \u001b[0;36m_input_request\u001b[0;34m(self, prompt, ident, parent, password)\u001b[0m\n\u001b[1;32m    728\u001b[0m             \u001b[0;32mtry\u001b[0m\u001b[0;34m:\u001b[0m\u001b[0;34m\u001b[0m\u001b[0;34m\u001b[0m\u001b[0m\n\u001b[0;32m--> 729\u001b[0;31m                 \u001b[0mident\u001b[0m\u001b[0;34m,\u001b[0m \u001b[0mreply\u001b[0m \u001b[0;34m=\u001b[0m \u001b[0mself\u001b[0m\u001b[0;34m.\u001b[0m\u001b[0msession\u001b[0m\u001b[0;34m.\u001b[0m\u001b[0mrecv\u001b[0m\u001b[0;34m(\u001b[0m\u001b[0mself\u001b[0m\u001b[0;34m.\u001b[0m\u001b[0mstdin_socket\u001b[0m\u001b[0;34m,\u001b[0m \u001b[0;36m0\u001b[0m\u001b[0;34m)\u001b[0m\u001b[0;34m\u001b[0m\u001b[0;34m\u001b[0m\u001b[0m\n\u001b[0m\u001b[1;32m    730\u001b[0m             \u001b[0;32mexcept\u001b[0m \u001b[0mException\u001b[0m\u001b[0;34m:\u001b[0m\u001b[0;34m\u001b[0m\u001b[0;34m\u001b[0m\u001b[0m\n",
            "\u001b[0;32m/usr/local/lib/python3.7/dist-packages/jupyter_client/session.py\u001b[0m in \u001b[0;36mrecv\u001b[0;34m(self, socket, mode, content, copy)\u001b[0m\n\u001b[1;32m    802\u001b[0m         \u001b[0;32mtry\u001b[0m\u001b[0;34m:\u001b[0m\u001b[0;34m\u001b[0m\u001b[0;34m\u001b[0m\u001b[0m\n\u001b[0;32m--> 803\u001b[0;31m             \u001b[0mmsg_list\u001b[0m \u001b[0;34m=\u001b[0m \u001b[0msocket\u001b[0m\u001b[0;34m.\u001b[0m\u001b[0mrecv_multipart\u001b[0m\u001b[0;34m(\u001b[0m\u001b[0mmode\u001b[0m\u001b[0;34m,\u001b[0m \u001b[0mcopy\u001b[0m\u001b[0;34m=\u001b[0m\u001b[0mcopy\u001b[0m\u001b[0;34m)\u001b[0m\u001b[0;34m\u001b[0m\u001b[0;34m\u001b[0m\u001b[0m\n\u001b[0m\u001b[1;32m    804\u001b[0m         \u001b[0;32mexcept\u001b[0m \u001b[0mzmq\u001b[0m\u001b[0;34m.\u001b[0m\u001b[0mZMQError\u001b[0m \u001b[0;32mas\u001b[0m \u001b[0me\u001b[0m\u001b[0;34m:\u001b[0m\u001b[0;34m\u001b[0m\u001b[0;34m\u001b[0m\u001b[0m\n",
            "\u001b[0;32m/usr/local/lib/python3.7/dist-packages/zmq/sugar/socket.py\u001b[0m in \u001b[0;36mrecv_multipart\u001b[0;34m(self, flags, copy, track)\u001b[0m\n\u001b[1;32m    726\u001b[0m         \"\"\"\n\u001b[0;32m--> 727\u001b[0;31m         \u001b[0mparts\u001b[0m \u001b[0;34m=\u001b[0m \u001b[0;34m[\u001b[0m\u001b[0mself\u001b[0m\u001b[0;34m.\u001b[0m\u001b[0mrecv\u001b[0m\u001b[0;34m(\u001b[0m\u001b[0mflags\u001b[0m\u001b[0;34m,\u001b[0m \u001b[0mcopy\u001b[0m\u001b[0;34m=\u001b[0m\u001b[0mcopy\u001b[0m\u001b[0;34m,\u001b[0m \u001b[0mtrack\u001b[0m\u001b[0;34m=\u001b[0m\u001b[0mtrack\u001b[0m\u001b[0;34m)\u001b[0m\u001b[0;34m]\u001b[0m\u001b[0;34m\u001b[0m\u001b[0;34m\u001b[0m\u001b[0m\n\u001b[0m\u001b[1;32m    728\u001b[0m         \u001b[0;31m# have first part already, only loop while more to receive\u001b[0m\u001b[0;34m\u001b[0m\u001b[0;34m\u001b[0m\u001b[0;34m\u001b[0m\u001b[0m\n",
            "\u001b[0;32mzmq/backend/cython/socket.pyx\u001b[0m in \u001b[0;36mzmq.backend.cython.socket.Socket.recv\u001b[0;34m()\u001b[0m\n",
            "\u001b[0;32mzmq/backend/cython/socket.pyx\u001b[0m in \u001b[0;36mzmq.backend.cython.socket.Socket.recv\u001b[0;34m()\u001b[0m\n",
            "\u001b[0;32mzmq/backend/cython/socket.pyx\u001b[0m in \u001b[0;36mzmq.backend.cython.socket._recv_copy\u001b[0;34m()\u001b[0m\n",
            "\u001b[0;32m/usr/local/lib/python3.7/dist-packages/zmq/backend/cython/checkrc.pxd\u001b[0m in \u001b[0;36mzmq.backend.cython.checkrc._check_rc\u001b[0;34m()\u001b[0m\n",
            "\u001b[0;31mKeyboardInterrupt\u001b[0m: ",
            "\nDuring handling of the above exception, another exception occurred:\n",
            "\u001b[0;31mKeyboardInterrupt\u001b[0m                         Traceback (most recent call last)",
            "\u001b[0;32m/usr/local/lib/python3.7/dist-packages/IPython/core/interactiveshell.py\u001b[0m in \u001b[0;36mrun_code\u001b[0;34m(self, code_obj, result)\u001b[0m\n\u001b[1;32m   2881\u001b[0m                 \u001b[0;31m#rprint('Running code', repr(code_obj)) # dbg\u001b[0m\u001b[0;34m\u001b[0m\u001b[0;34m\u001b[0m\u001b[0;34m\u001b[0m\u001b[0m\n\u001b[0;32m-> 2882\u001b[0;31m                 \u001b[0mexec\u001b[0m\u001b[0;34m(\u001b[0m\u001b[0mcode_obj\u001b[0m\u001b[0;34m,\u001b[0m \u001b[0mself\u001b[0m\u001b[0;34m.\u001b[0m\u001b[0muser_global_ns\u001b[0m\u001b[0;34m,\u001b[0m \u001b[0mself\u001b[0m\u001b[0;34m.\u001b[0m\u001b[0muser_ns\u001b[0m\u001b[0;34m)\u001b[0m\u001b[0;34m\u001b[0m\u001b[0;34m\u001b[0m\u001b[0m\n\u001b[0m\u001b[1;32m   2883\u001b[0m             \u001b[0;32mfinally\u001b[0m\u001b[0;34m:\u001b[0m\u001b[0;34m\u001b[0m\u001b[0;34m\u001b[0m\u001b[0m\n",
            "\u001b[0;32m<ipython-input-3-9da21889e98e>\u001b[0m in \u001b[0;36m<module>\u001b[0;34m()\u001b[0m\n\u001b[0;32m----> 1\u001b[0;31m \u001b[0mnum\u001b[0m \u001b[0;34m=\u001b[0m \u001b[0minput\u001b[0m\u001b[0;34m(\u001b[0m\u001b[0;34m\"Please enter a number: \"\u001b[0m\u001b[0;34m)\u001b[0m\u001b[0;34m\u001b[0m\u001b[0;34m\u001b[0m\u001b[0m\n\u001b[0m\u001b[1;32m      2\u001b[0m \u001b[0mprint\u001b[0m\u001b[0;34m(\u001b[0m\u001b[0mnum\u001b[0m\u001b[0;34m)\u001b[0m\u001b[0;34m\u001b[0m\u001b[0;34m\u001b[0m\u001b[0m\n",
            "\u001b[0;32m/usr/local/lib/python3.7/dist-packages/ipykernel/kernelbase.py\u001b[0m in \u001b[0;36mraw_input\u001b[0;34m(self, prompt)\u001b[0m\n\u001b[1;32m    703\u001b[0m             \u001b[0mself\u001b[0m\u001b[0;34m.\u001b[0m\u001b[0m_parent_header\u001b[0m\u001b[0;34m,\u001b[0m\u001b[0;34m\u001b[0m\u001b[0;34m\u001b[0m\u001b[0m\n\u001b[0;32m--> 704\u001b[0;31m             \u001b[0mpassword\u001b[0m\u001b[0;34m=\u001b[0m\u001b[0;32mFalse\u001b[0m\u001b[0;34m,\u001b[0m\u001b[0;34m\u001b[0m\u001b[0;34m\u001b[0m\u001b[0m\n\u001b[0m\u001b[1;32m    705\u001b[0m         )\n",
            "\u001b[0;32m/usr/local/lib/python3.7/dist-packages/ipykernel/kernelbase.py\u001b[0m in \u001b[0;36m_input_request\u001b[0;34m(self, prompt, ident, parent, password)\u001b[0m\n\u001b[1;32m    733\u001b[0m                 \u001b[0;31m# re-raise KeyboardInterrupt, to truncate traceback\u001b[0m\u001b[0;34m\u001b[0m\u001b[0;34m\u001b[0m\u001b[0;34m\u001b[0m\u001b[0m\n\u001b[0;32m--> 734\u001b[0;31m                 \u001b[0;32mraise\u001b[0m \u001b[0mKeyboardInterrupt\u001b[0m\u001b[0;34m\u001b[0m\u001b[0;34m\u001b[0m\u001b[0m\n\u001b[0m\u001b[1;32m    735\u001b[0m             \u001b[0;32melse\u001b[0m\u001b[0;34m:\u001b[0m\u001b[0;34m\u001b[0m\u001b[0;34m\u001b[0m\u001b[0m\n",
            "\u001b[0;31mKeyboardInterrupt\u001b[0m: ",
            "\nDuring handling of the above exception, another exception occurred:\n",
            "\u001b[0;31mAttributeError\u001b[0m                            Traceback (most recent call last)",
            "\u001b[0;32m/usr/local/lib/python3.7/dist-packages/IPython/core/interactiveshell.py\u001b[0m in \u001b[0;36mshowtraceback\u001b[0;34m(self, exc_tuple, filename, tb_offset, exception_only)\u001b[0m\n\u001b[1;32m   1822\u001b[0m                         \u001b[0;31m# in the engines. This should return a list of strings.\u001b[0m\u001b[0;34m\u001b[0m\u001b[0;34m\u001b[0m\u001b[0;34m\u001b[0m\u001b[0m\n\u001b[0;32m-> 1823\u001b[0;31m                         \u001b[0mstb\u001b[0m \u001b[0;34m=\u001b[0m \u001b[0mvalue\u001b[0m\u001b[0;34m.\u001b[0m\u001b[0m_render_traceback_\u001b[0m\u001b[0;34m(\u001b[0m\u001b[0;34m)\u001b[0m\u001b[0;34m\u001b[0m\u001b[0;34m\u001b[0m\u001b[0m\n\u001b[0m\u001b[1;32m   1824\u001b[0m                     \u001b[0;32mexcept\u001b[0m \u001b[0mException\u001b[0m\u001b[0;34m:\u001b[0m\u001b[0;34m\u001b[0m\u001b[0;34m\u001b[0m\u001b[0m\n",
            "\u001b[0;31mAttributeError\u001b[0m: 'KeyboardInterrupt' object has no attribute '_render_traceback_'",
            "\nDuring handling of the above exception, another exception occurred:\n",
            "\u001b[0;31mTypeError\u001b[0m                                 Traceback (most recent call last)",
            "\u001b[0;32m/usr/local/lib/python3.7/dist-packages/IPython/core/interactiveshell.py\u001b[0m in \u001b[0;36mrun_code\u001b[0;34m(self, code_obj, result)\u001b[0m\n\u001b[1;32m   2897\u001b[0m             \u001b[0;32mif\u001b[0m \u001b[0mresult\u001b[0m \u001b[0;32mis\u001b[0m \u001b[0;32mnot\u001b[0m \u001b[0;32mNone\u001b[0m\u001b[0;34m:\u001b[0m\u001b[0;34m\u001b[0m\u001b[0;34m\u001b[0m\u001b[0m\n\u001b[1;32m   2898\u001b[0m                 \u001b[0mresult\u001b[0m\u001b[0;34m.\u001b[0m\u001b[0merror_in_exec\u001b[0m \u001b[0;34m=\u001b[0m \u001b[0msys\u001b[0m\u001b[0;34m.\u001b[0m\u001b[0mexc_info\u001b[0m\u001b[0;34m(\u001b[0m\u001b[0;34m)\u001b[0m\u001b[0;34m[\u001b[0m\u001b[0;36m1\u001b[0m\u001b[0;34m]\u001b[0m\u001b[0;34m\u001b[0m\u001b[0;34m\u001b[0m\u001b[0m\n\u001b[0;32m-> 2899\u001b[0;31m             \u001b[0mself\u001b[0m\u001b[0;34m.\u001b[0m\u001b[0mshowtraceback\u001b[0m\u001b[0;34m(\u001b[0m\u001b[0;34m)\u001b[0m\u001b[0;34m\u001b[0m\u001b[0;34m\u001b[0m\u001b[0m\n\u001b[0m\u001b[1;32m   2900\u001b[0m         \u001b[0;32melse\u001b[0m\u001b[0;34m:\u001b[0m\u001b[0;34m\u001b[0m\u001b[0;34m\u001b[0m\u001b[0m\n\u001b[1;32m   2901\u001b[0m             \u001b[0moutflag\u001b[0m \u001b[0;34m=\u001b[0m \u001b[0;36m0\u001b[0m\u001b[0;34m\u001b[0m\u001b[0;34m\u001b[0m\u001b[0m\n",
            "\u001b[0;32m/usr/local/lib/python3.7/dist-packages/IPython/core/interactiveshell.py\u001b[0m in \u001b[0;36mshowtraceback\u001b[0;34m(self, exc_tuple, filename, tb_offset, exception_only)\u001b[0m\n\u001b[1;32m   1824\u001b[0m                     \u001b[0;32mexcept\u001b[0m \u001b[0mException\u001b[0m\u001b[0;34m:\u001b[0m\u001b[0;34m\u001b[0m\u001b[0;34m\u001b[0m\u001b[0m\n\u001b[1;32m   1825\u001b[0m                         stb = self.InteractiveTB.structured_traceback(etype,\n\u001b[0;32m-> 1826\u001b[0;31m                                             value, tb, tb_offset=tb_offset)\n\u001b[0m\u001b[1;32m   1827\u001b[0m \u001b[0;34m\u001b[0m\u001b[0m\n\u001b[1;32m   1828\u001b[0m                     \u001b[0mself\u001b[0m\u001b[0;34m.\u001b[0m\u001b[0m_showtraceback\u001b[0m\u001b[0;34m(\u001b[0m\u001b[0metype\u001b[0m\u001b[0;34m,\u001b[0m \u001b[0mvalue\u001b[0m\u001b[0;34m,\u001b[0m \u001b[0mstb\u001b[0m\u001b[0;34m)\u001b[0m\u001b[0;34m\u001b[0m\u001b[0;34m\u001b[0m\u001b[0m\n",
            "\u001b[0;32m/usr/local/lib/python3.7/dist-packages/IPython/core/ultratb.py\u001b[0m in \u001b[0;36mstructured_traceback\u001b[0;34m(self, etype, value, tb, tb_offset, number_of_lines_of_context)\u001b[0m\n\u001b[1;32m   1409\u001b[0m         \u001b[0mself\u001b[0m\u001b[0;34m.\u001b[0m\u001b[0mtb\u001b[0m \u001b[0;34m=\u001b[0m \u001b[0mtb\u001b[0m\u001b[0;34m\u001b[0m\u001b[0;34m\u001b[0m\u001b[0m\n\u001b[1;32m   1410\u001b[0m         return FormattedTB.structured_traceback(\n\u001b[0;32m-> 1411\u001b[0;31m             self, etype, value, tb, tb_offset, number_of_lines_of_context)\n\u001b[0m\u001b[1;32m   1412\u001b[0m \u001b[0;34m\u001b[0m\u001b[0m\n\u001b[1;32m   1413\u001b[0m \u001b[0;34m\u001b[0m\u001b[0m\n",
            "\u001b[0;32m/usr/local/lib/python3.7/dist-packages/IPython/core/ultratb.py\u001b[0m in \u001b[0;36mstructured_traceback\u001b[0;34m(self, etype, value, tb, tb_offset, number_of_lines_of_context)\u001b[0m\n\u001b[1;32m   1317\u001b[0m             \u001b[0;31m# Verbose modes need a full traceback\u001b[0m\u001b[0;34m\u001b[0m\u001b[0;34m\u001b[0m\u001b[0;34m\u001b[0m\u001b[0m\n\u001b[1;32m   1318\u001b[0m             return VerboseTB.structured_traceback(\n\u001b[0;32m-> 1319\u001b[0;31m                 \u001b[0mself\u001b[0m\u001b[0;34m,\u001b[0m \u001b[0metype\u001b[0m\u001b[0;34m,\u001b[0m \u001b[0mvalue\u001b[0m\u001b[0;34m,\u001b[0m \u001b[0mtb\u001b[0m\u001b[0;34m,\u001b[0m \u001b[0mtb_offset\u001b[0m\u001b[0;34m,\u001b[0m \u001b[0mnumber_of_lines_of_context\u001b[0m\u001b[0;34m\u001b[0m\u001b[0;34m\u001b[0m\u001b[0m\n\u001b[0m\u001b[1;32m   1320\u001b[0m             )\n\u001b[1;32m   1321\u001b[0m         \u001b[0;32melse\u001b[0m\u001b[0;34m:\u001b[0m\u001b[0;34m\u001b[0m\u001b[0;34m\u001b[0m\u001b[0m\n",
            "\u001b[0;32m/usr/local/lib/python3.7/dist-packages/IPython/core/ultratb.py\u001b[0m in \u001b[0;36mstructured_traceback\u001b[0;34m(self, etype, evalue, etb, tb_offset, number_of_lines_of_context)\u001b[0m\n\u001b[1;32m   1180\u001b[0m             \u001b[0mexception\u001b[0m \u001b[0;34m=\u001b[0m \u001b[0mself\u001b[0m\u001b[0;34m.\u001b[0m\u001b[0mget_parts_of_chained_exception\u001b[0m\u001b[0;34m(\u001b[0m\u001b[0mevalue\u001b[0m\u001b[0;34m)\u001b[0m\u001b[0;34m\u001b[0m\u001b[0;34m\u001b[0m\u001b[0m\n\u001b[1;32m   1181\u001b[0m             \u001b[0;32mif\u001b[0m \u001b[0mexception\u001b[0m\u001b[0;34m:\u001b[0m\u001b[0;34m\u001b[0m\u001b[0;34m\u001b[0m\u001b[0m\n\u001b[0;32m-> 1182\u001b[0;31m                 \u001b[0mformatted_exceptions\u001b[0m \u001b[0;34m+=\u001b[0m \u001b[0mself\u001b[0m\u001b[0;34m.\u001b[0m\u001b[0mprepare_chained_exception_message\u001b[0m\u001b[0;34m(\u001b[0m\u001b[0mevalue\u001b[0m\u001b[0;34m.\u001b[0m\u001b[0m__cause__\u001b[0m\u001b[0;34m)\u001b[0m\u001b[0;34m\u001b[0m\u001b[0;34m\u001b[0m\u001b[0m\n\u001b[0m\u001b[1;32m   1183\u001b[0m                 \u001b[0metype\u001b[0m\u001b[0;34m,\u001b[0m \u001b[0mevalue\u001b[0m\u001b[0;34m,\u001b[0m \u001b[0metb\u001b[0m \u001b[0;34m=\u001b[0m \u001b[0mexception\u001b[0m\u001b[0;34m\u001b[0m\u001b[0;34m\u001b[0m\u001b[0m\n\u001b[1;32m   1184\u001b[0m             \u001b[0;32melse\u001b[0m\u001b[0;34m:\u001b[0m\u001b[0;34m\u001b[0m\u001b[0;34m\u001b[0m\u001b[0m\n",
            "\u001b[0;31mTypeError\u001b[0m: can only concatenate str (not \"list\") to str"
          ]
        }
      ],
      "source": [
        "num1 = input(\"Please enter the first  number: \")\n",
        "num2 = input(\"Please enter a second number: \")\n",
        "print(num1,num2)\n"
      ]
    },
    {
      "cell_type": "code",
      "execution_count": null,
      "metadata": {
        "colab": {
          "base_uri": "https://localhost:8080/"
        },
        "id": "yGjxRcvdA6eO",
        "outputId": "311d7583-a0ae-45ea-9a14-6ec36918fcce"
      },
      "outputs": [
        {
          "name": "stdout",
          "output_type": "stream",
          "text": [
            "50\n"
          ]
        }
      ],
      "source": [
        "# Example 6\n",
        "# Calculating the Product of Two Numbers (Multiplication)\n",
        "Pizza = 10\n",
        "Pieces = 5\n",
        "Total = Pizza * Pieces \n",
        "print(Total)"
      ]
    },
    {
      "cell_type": "code",
      "execution_count": null,
      "metadata": {
        "colab": {
          "base_uri": "https://localhost:8080/"
        },
        "id": "bI1sMXsFE5te",
        "outputId": "730dd13e-772f-48a3-9725-9fabcc9053d7"
      },
      "outputs": [
        {
          "name": "stdout",
          "output_type": "stream",
          "text": [
            "208\n"
          ]
        }
      ],
      "source": [
        "Pasta = 10 + 3\n",
        "Pizza = 21 - 5\n",
        "Total = Pizza * Pasta \n",
        "print(Total)"
      ]
    },
    {
      "cell_type": "code",
      "execution_count": null,
      "metadata": {
        "colab": {
          "base_uri": "https://localhost:8080/"
        },
        "id": "LHf-cHgQDEG6",
        "outputId": "8e0f9f2d-3584-4945-9e1b-896a625eadfc"
      },
      "outputs": [
        {
          "name": "stdout",
          "output_type": "stream",
          "text": [
            "97.0\n"
          ]
        }
      ],
      "source": [
        "X = 10 - 9.5 + 3.5\n",
        "H = 90 + 3\n",
        "Total = X + H\n",
        "print(Total)"
      ]
    },
    {
      "cell_type": "code",
      "execution_count": null,
      "metadata": {
        "colab": {
          "base_uri": "https://localhost:8080/"
        },
        "id": "-ztfTrxkss7N",
        "outputId": "1a490c97-ec96-40de-9ced-10d6905fb7d7"
      },
      "outputs": [
        {
          "name": "stdout",
          "output_type": "stream",
          "text": [
            "25\n"
          ]
        }
      ],
      "source": [
        "A = 50\n",
        "B = 25\n",
        "Total = A - B\n",
        "print (Total)"
      ]
    },
    {
      "cell_type": "code",
      "execution_count": null,
      "metadata": {
        "colab": {
          "base_uri": "https://localhost:8080/"
        },
        "id": "xq-_Aom9CAYV",
        "outputId": "ecccb748-2c24-4804-df31-c5dd986c4a73"
      },
      "outputs": [
        {
          "name": "stdout",
          "output_type": "stream",
          "text": [
            "5.0\n"
          ]
        }
      ],
      "source": [
        "# Example 6\n",
        "# Division\n",
        "X = 100\n",
        "Y = 20\n",
        "Result = X/Y \n",
        "print(Result)\n",
        "\n"
      ]
    },
    {
      "cell_type": "code",
      "execution_count": null,
      "metadata": {
        "colab": {
          "base_uri": "https://localhost:8080/"
        },
        "id": "L_WujKiCg8Rw",
        "outputId": "be63b7a6-abdb-48f4-f28d-dec070cd3d8b"
      },
      "outputs": [
        {
          "name": "stdout",
          "output_type": "stream",
          "text": [
            "561.0\n"
          ]
        }
      ],
      "source": [
        "X = 5049\n",
        "Y = 9\n",
        "Result = X/Y\n",
        "print(Result)"
      ]
    },
    {
      "cell_type": "code",
      "execution_count": null,
      "metadata": {
        "colab": {
          "base_uri": "https://localhost:8080/"
        },
        "id": "WJIl9bDhhk0-",
        "outputId": "c92bd2f2-b4c8-4431-c242-d0e9e72cb3ce"
      },
      "outputs": [
        {
          "name": "stdout",
          "output_type": "stream",
          "text": [
            "2275\n"
          ]
        }
      ],
      "source": [
        "Y = 7\n",
        "X = 325\n",
        "Result = Y * X\n",
        "print(Result)"
      ]
    },
    {
      "cell_type": "markdown",
      "metadata": {
        "id": "tSMlGCBMD0IL"
      },
      "source": [
        "**Exercise 2 - Now write some similar programs**"
      ]
    },
    {
      "cell_type": "code",
      "execution_count": null,
      "metadata": {
        "colab": {
          "base_uri": "https://localhost:8080/"
        },
        "id": "ZVNL2eknpEgy",
        "outputId": "b8f20e3e-e859-4a2d-da90-5a2e59892e26"
      },
      "outputs": [
        {
          "name": "stdout",
          "output_type": "stream",
          "text": [
            "2\n"
          ]
        }
      ],
      "source": [
        "X = 3 + 5\n",
        "Y = 9 - 3\n",
        "total = X - Y\n",
        "print (total)"
      ]
    },
    {
      "cell_type": "code",
      "execution_count": null,
      "metadata": {
        "colab": {
          "base_uri": "https://localhost:8080/"
        },
        "id": "xFS7KquuEYD-",
        "outputId": "c7e82cb7-6e28-43d9-953b-eecd16f345a3"
      },
      "outputs": [
        {
          "name": "stdout",
          "output_type": "stream",
          "text": [
            "7.0\n"
          ]
        }
      ],
      "source": [
        "Bannanas = 35\n",
        "Kiwis = 5\n",
        "total = Bannanas/Kiwis\n",
        "print(total)"
      ]
    },
    {
      "cell_type": "markdown",
      "metadata": {
        "id": "L7yovZXP8aXZ"
      },
      "source": [
        "## **Section 3.0  - Input and Output of Strings**"
      ]
    },
    {
      "cell_type": "markdown",
      "metadata": {
        "id": "gSnrhSCDn9mM"
      },
      "source": [
        ""
      ]
    },
    {
      "cell_type": "code",
      "execution_count": null,
      "metadata": {
        "colab": {
          "base_uri": "https://localhost:8080/"
        },
        "id": "3D_ixZbYGdlf",
        "outputId": "768bae5c-b1ea-4b5b-e127-1a16e2029234"
      },
      "outputs": [
        {
          "name": "stdout",
          "output_type": "stream",
          "text": [
            "What is your Name ? max\n",
            "My name is Max\n"
          ]
        }
      ],
      "source": [
        "Name = input(\"What is your Name ? \" )\n",
        "print(\"My name is Max\")"
      ]
    },
    {
      "cell_type": "code",
      "execution_count": null,
      "metadata": {
        "colab": {
          "background_save": true
        },
        "id": "YHwuO9mWh8F-",
        "outputId": "82fdecda-d7ae-446e-d640-ee2792fb4cf6"
      },
      "outputs": [
        {
          "name": "stdout",
          "output_type": "stream",
          "text": [
            "My name is Max\n"
          ]
        }
      ],
      "source": [
        "Name = input(\"What is you're Name ?\")"
      ]
    },
    {
      "cell_type": "code",
      "execution_count": null,
      "metadata": {
        "colab": {
          "base_uri": "https://localhost:8080/"
        },
        "id": "BSKxCeJXESQ_",
        "outputId": "756e31f2-2ed8-49b2-d23e-d8b82eca9c31"
      },
      "outputs": [
        {
          "name": "stdout",
          "output_type": "stream",
          "text": [
            "What is your Name ? Kate\n",
            "My name is  Kate\n"
          ]
        }
      ],
      "source": [
        "# Example 7\n",
        "Name = input(\"What is your Name ? \")\n",
        "print(\"My name is \", Name)"
      ]
    },
    {
      "cell_type": "markdown",
      "metadata": {
        "id": "MGZ2Tdd1Ev6c"
      },
      "source": [
        "**Exercise 3 - Write a Program which asks the user for their favourite city and then displays the answer**"
      ]
    },
    {
      "cell_type": "markdown",
      "metadata": {
        "id": "hw2pfV-kFHGd"
      },
      "source": [
        "**Exercise 4 - Write a Program which asks the user for their favourite subject and then displays the answer**"
      ]
    },
    {
      "cell_type": "markdown",
      "metadata": {
        "id": "88rJzq_tFl3F"
      },
      "source": [
        "## **Section 4.0 Input and Output of Numbers**"
      ]
    },
    {
      "cell_type": "code",
      "execution_count": null,
      "metadata": {
        "id": "9OhW7Hg1FaXK"
      },
      "outputs": [],
      "source": [
        ""
      ]
    },
    {
      "cell_type": "code",
      "execution_count": null,
      "metadata": {
        "colab": {
          "base_uri": "https://localhost:8080/"
        },
        "id": "YiU_EcQcFuHc",
        "outputId": "fd153827-c4b4-471d-b061-23d718ac8208"
      },
      "outputs": [
        {
          "name": "stdout",
          "output_type": "stream",
          "text": [
            "Enter your Age 13\n",
            "You are  13  years old\n"
          ]
        }
      ],
      "source": [
        "# Example 8\n",
        "Age = int(input(\"Enter your Age \"))\n",
        "print(\"You are \", Age, \" years old\")"
      ]
    },
    {
      "cell_type": "code",
      "execution_count": null,
      "metadata": {
        "colab": {
          "base_uri": "https://localhost:8080/"
        },
        "id": "yhyE-DfxH9l4",
        "outputId": "6012ee14-246d-44b0-fbd6-51c4e801cf00"
      },
      "outputs": [
        {
          "name": "stdout",
          "output_type": "stream",
          "text": [
            "1414\n",
            "you are 14 years old\n"
          ]
        }
      ],
      "source": [
        "Age = int(input(\"14\"))\n",
        "print (\"you are 14 years old\")"
      ]
    },
    {
      "cell_type": "code",
      "execution_count": null,
      "metadata": {
        "colab": {
          "base_uri": "https://localhost:8080/"
        },
        "id": "1j2uu6niF5ey",
        "outputId": "f192226f-5fe6-42ab-c472-179c988c0936"
      },
      "outputs": [
        {
          "name": "stdout",
          "output_type": "stream",
          "text": [
            "How many minutes does it take you to brush your teeth? 2\n",
            "It takes you  2  minutes to brush your teeth!\n"
          ]
        }
      ],
      "source": [
        "# Example 9\n",
        "Minutes = int(input(\"How many minutes does it take you to brush your teeth? \"))\n",
        "print(\"It takes you \", Minutes, \" minutes to brush your teeth!\")"
      ]
    },
    {
      "cell_type": "markdown",
      "metadata": {
        "id": "ZfRd-uclGifI"
      },
      "source": [
        "**Exercise 5 - Write a Program which asks the user how many countries there are in the world and displays the answer**"
      ]
    },
    {
      "cell_type": "code",
      "execution_count": null,
      "metadata": {
        "colab": {
          "base_uri": "https://localhost:8080/"
        },
        "id": "1MVBwbKxsxJs",
        "outputId": "972df3ff-149b-418e-df4b-55da3d9aa825"
      },
      "outputs": [
        {
          "name": "stdout",
          "output_type": "stream",
          "text": [
            "how many countries are there in the world? 195\n",
            "There are 195 countries in the world! \n"
          ]
        }
      ],
      "source": [
        "Countries = int(input(\"how many countries are there in the world? \"))\n",
        "print(\"There are\", Countries, \"countries in the world! \")"
      ]
    },
    {
      "cell_type": "markdown",
      "metadata": {
        "id": "amArS8YXIaYC"
      },
      "source": [
        "**Exercise 6 - Now write a program with a question of your choice**"
      ]
    },
    {
      "cell_type": "code",
      "execution_count": null,
      "metadata": {
        "colab": {
          "base_uri": "https://localhost:8080/"
        },
        "id": "z4FMiRensx5M",
        "outputId": "8e87aeec-6cb4-4cc9-c18e-bee8498cbb2d"
      },
      "outputs": [
        {
          "name": "stdout",
          "output_type": "stream",
          "text": [
            "what percentage of the world does the sea cover 71\n",
            "it covers 71 percent of the world!\n"
          ]
        }
      ],
      "source": [
        "percent = int(input(\"what percentage of the world does the sea cover \"))\n",
        "print(\"it covers\", percent, \"percent of the world!\")"
      ]
    },
    {
      "cell_type": "markdown",
      "metadata": {
        "id": "wvpjlcsvZoZY"
      },
      "source": [
        ""
      ]
    },
    {
      "cell_type": "markdown",
      "metadata": {
        "id": "LPlpCJ5uuR8B"
      },
      "source": [
        "## **Section 4.0A - Please Study the Program below on Input and Manipulation of Numbers (Integers) and then do Exercises 5A,6A and 7A**"
      ]
    },
    {
      "cell_type": "code",
      "execution_count": null,
      "metadata": {
        "colab": {
          "base_uri": "https://localhost:8080/"
        },
        "id": "-Dg-K2j6JJtW",
        "outputId": "f10519ad-1323-4d70-8e0f-1bc87c2cfd9d"
      },
      "outputs": [
        {
          "name": "stdout",
          "output_type": "stream",
          "text": [
            "Enter the length of a square in cm 5\n",
            "The area of the square is  25  cm square\n"
          ]
        }
      ],
      "source": [
        "# Program 7A - Performing Calculations\n",
        "# Calculating the area of a square\n",
        "Length = int(input(\"Enter the length of a square in cm \"))\n",
        "Area = Length * Length\n",
        "print(\"The area of the square is \", Area, \" cm square\")"
      ]
    },
    {
      "cell_type": "markdown",
      "metadata": {
        "id": "UesMfwo4Dqzo"
      },
      "source": [
        "**Exercise 5A - Write a Program which calculates the area of a rectangle by inviting the user to input the height and width of the rectangle**"
      ]
    },
    {
      "cell_type": "code",
      "execution_count": null,
      "metadata": {
        "colab": {
          "base_uri": "https://localhost:8080/"
        },
        "id": "gI6H7JUhLqK_",
        "outputId": "a2e4d094-5087-4894-e354-dd9ed49f7604"
      },
      "outputs": [
        {
          "name": "stdout",
          "output_type": "stream",
          "text": [
            "Enter the Length of a rectangle in cm 16\n",
            "Enter the Width of a rectangle in cm 18\n",
            "The area of the rectangle is 289 cm squared\n"
          ]
        }
      ],
      "source": [
        "Length = int(input(\"Enter the Length of a rectangle in cm \"))\n",
        "Width =  int(input(\"Enter the Width of a rectangle in cm \"))\n",
        "area = Width * Length\n",
        "print(\"The area of the rectangle is\",Area, \"cm squared\")"
      ]
    },
    {
      "cell_type": "code",
      "execution_count": null,
      "metadata": {
        "colab": {
          "base_uri": "https://localhost:8080/"
        },
        "id": "5xqm_aIXD9tG",
        "outputId": "6702611d-76ed-4cb4-ccee-9c0a38a28102"
      },
      "outputs": [
        {
          "name": "stdout",
          "output_type": "stream",
          "text": [
            "Enter the length of a square is cm 17\n",
            "the area of the square is 289  cm square\n"
          ]
        }
      ],
      "source": [
        "Length = int(input(\"Enter the length of a square is cm \"))\n",
        "Area = Length * Length\n",
        "print(\"the area of the square is\", Area,\" cm square\")"
      ]
    },
    {
      "cell_type": "code",
      "execution_count": null,
      "metadata": {
        "id": "lP3EuWAuJsoF"
      },
      "outputs": [],
      "source": [
        "# Program 8A - Perfoming Calculations\n",
        "# Calculating the Area of a Square\n",
        "# We see another example of casting here float(input(\"kkk\")) is an example of casting\n",
        "\n",
        "Length = float(input(\"Enter the length of a square in cm \"))\n",
        "Area = Length **2\n",
        "print(\" The area of the square is \", Area, \" cm square \")"
      ]
    },
    {
      "cell_type": "markdown",
      "metadata": {
        "id": "Jg_QwvOyFJHg"
      },
      "source": [
        "**<br>Exercise 6A - Write a Program which calculates the area of a circle and outputs the answer</br>**\n",
        "**(Note the Formula for Area of a Circle = $\\pi * Radius^2$)**"
      ]
    },
    {
      "cell_type": "code",
      "execution_count": null,
      "metadata": {
        "id": "VYWdvLEdFp_L"
      },
      "outputs": [],
      "source": [
        "# Insert Code Here"
      ]
    },
    {
      "cell_type": "markdown",
      "metadata": {
        "id": "ddL2V8TaF9h6"
      },
      "source": [
        "**<br>Exercise 7A - Write a Program which calculates the circumference of a circle and outputs the result to 2 decimal places</br>**\n",
        "**<br>(Formula: Circumference of a Circle = $2*\\pi*Radius$)</br>**\n",
        "**<br>(To round to 2 decimal places use round(Circumference,2) - so here we round Circumference to 2 decimal places</br>**\n"
      ]
    },
    {
      "cell_type": "code",
      "execution_count": null,
      "metadata": {
        "id": "y33wylKAGMJ4"
      },
      "outputs": [],
      "source": [
        "# Insert Code Here"
      ]
    },
    {
      "cell_type": "markdown",
      "metadata": {
        "id": "BgxZuIggu2tU"
      },
      "source": [
        "## **Section 4.0B - Please study the program below on Exponents and then do Exercise 8A**"
      ]
    },
    {
      "cell_type": "code",
      "execution_count": null,
      "metadata": {
        "id": "usq6pyRpijcJ"
      },
      "outputs": [],
      "source": [
        "# Program 8a - To the Power of Zero and to the Power of 0.5 (Half)\n",
        "# Anything raised to the Power of Zero is 1\n",
        "\n",
        "x = 10\n",
        "print(\"Anything raised to the Power Zero \",x**0)\n",
        "\n",
        "# Anything raised to the Power 0.5 is the Square Root of the number\n",
        "y =9\n",
        "print(y, \"to the power 0.5 (1/2) is:- \",y**0.5)"
      ]
    },
    {
      "cell_type": "markdown",
      "metadata": {
        "id": "KTOW202fG8tF"
      },
      "source": [
        "**Exercise 8A - Write a Program which invites the user to enter a number and \n",
        "outputs the cube of the number**"
      ]
    },
    {
      "cell_type": "code",
      "execution_count": null,
      "metadata": {
        "id": "1faPx9lDHIH0"
      },
      "outputs": [],
      "source": [
        "# Insert Code Here"
      ]
    },
    {
      "cell_type": "markdown",
      "metadata": {
        "id": "urMfBWlhqneA"
      },
      "source": [
        "##**Section 4.1 Writing Programs with the IF statement**"
      ]
    },
    {
      "cell_type": "markdown",
      "metadata": {
        "id": "RJKmu1BhqzmI"
      },
      "source": [
        "**Study Examples 9a, 9b, run them yourselves and do Exercises 6a and 6b**"
      ]
    },
    {
      "cell_type": "code",
      "execution_count": null,
      "metadata": {
        "colab": {
          "base_uri": "https://localhost:8080/"
        },
        "id": "DB7jz2Suq89B",
        "outputId": "032104cb-ebdb-4e91-ede0-deeaf339fd4c"
      },
      "outputs": [
        {
          "name": "stdout",
          "output_type": "stream",
          "text": [
            "Enter a Month January\n",
            "Happy New Year\n"
          ]
        }
      ],
      "source": [
        "# Program 9a\n",
        "# New Year\n",
        "Month = input(\"Enter a Month \")\n",
        "if Month == \"January\":\n",
        "  print(\"Happy New Year\")"
      ]
    },
    {
      "cell_type": "code",
      "execution_count": null,
      "metadata": {
        "colab": {
          "base_uri": "https://localhost:8080/"
        },
        "id": "ZoSDoYSVK1F-",
        "outputId": "d0659ee6-f10b-45fc-c5fa-1da504d9ed9c"
      },
      "outputs": [
        {
          "name": "stdout",
          "output_type": "stream",
          "text": [
            "Enter a monthJanuary\n",
            "Happyy New Year\n",
            "Enter a month January\n"
          ]
        }
      ],
      "source": [
        "Month = input(\"Enter a month\")\n",
        "if Month == \"January\":\n",
        "  print(\"Happyy New Year\")"
      ]
    },
    {
      "cell_type": "code",
      "execution_count": null,
      "metadata": {
        "colab": {
          "base_uri": "https://localhost:8080/"
        },
        "id": "l26S3GZNqxro",
        "outputId": "5829fd76-7dcf-49ec-b31a-a6c188cb9dd8"
      },
      "outputs": [
        {
          "name": "stdout",
          "output_type": "stream",
          "text": [
            "Enter a Month April\n",
            "Not New Year Yet\n"
          ]
        }
      ],
      "source": [
        "# Program 9b\n",
        "# New Year\n",
        "Month = input(\"Enter a Month \")\n",
        "if Month== \"January\":\n",
        "  print(\"Happy New Year\")\n",
        "else:\n",
        "  print(\"Not New Year Yet\")"
      ]
    },
    {
      "cell_type": "code",
      "execution_count": null,
      "metadata": {
        "colab": {
          "base_uri": "https://localhost:8080/"
        },
        "id": "hN62mypmL1DC",
        "outputId": "f26327bb-7e3c-4b57-f2df-12d3a06ecef1"
      },
      "outputs": [
        {
          "name": "stdout",
          "output_type": "stream",
          "text": [
            "Enter a month  August\n",
            "Not New Year Yet\n"
          ]
        }
      ],
      "source": [
        "Month = input(\"Enter a month\")\n",
        "if Month == \"January\":\n",
        "  print(\"Happy New Year\")\n",
        "else: \n",
        "  print(\"Not New Year Yet\")"
      ]
    },
    {
      "cell_type": "markdown",
      "metadata": {
        "id": "ZZ-eY33uL5Tq"
      },
      "source": [
        "**Exercise 6a - Type in the above Program (Program 9b) and run it**"
      ]
    },
    {
      "cell_type": "code",
      "execution_count": null,
      "metadata": {
        "colab": {
          "base_uri": "https://localhost:8080/"
        },
        "id": "uXVqamqPsO9F",
        "outputId": "95aae455-40c0-4e30-af6e-279aadbe9551"
      },
      "outputs": [
        {
          "name": "stdout",
          "output_type": "stream",
          "text": [
            "Enter a monthNovember\n",
            "Its not your birthday quite yet\n"
          ]
        }
      ],
      "source": [
        "Month == input(\"Enter a month\")\n",
        "if Month==\"August\":\n",
        "  print (\"Its your Birthday\")\n",
        "else:\n",
        "  print(\"Its not your birthday quite yet\")\n"
      ]
    },
    {
      "cell_type": "markdown",
      "metadata": {
        "id": "P8Wd5k1Crw67"
      },
      "source": [
        "**Exercise 6b - Write a Program which asks the user to enter a month and if is October the program says 'it is Month of Halloween'and if it is not October the program says 'it is not the Month of Halloween'**"
      ]
    },
    {
      "cell_type": "code",
      "execution_count": null,
      "metadata": {
        "colab": {
          "base_uri": "https://localhost:8080/"
        },
        "id": "3BeYtKjxMJ98",
        "outputId": "6cf65073-fcbc-445c-bc8e-49d11b79501e"
      },
      "outputs": [
        {
          "name": "stdout",
          "output_type": "stream",
          "text": [
            "Enter a month October\n",
            "it is not the month of Halloween\n"
          ]
        }
      ],
      "source": [
        "Month == input(\"Enter a month\")\n",
        "if Month==\"October\":\n",
        " print(\"it is the month of Halloween\")\n",
        "else:\n",
        " print(\"it is not the month of Halloween\")"
      ]
    },
    {
      "cell_type": "markdown",
      "metadata": {
        "id": "qFMHi2rvMP-e"
      },
      "source": [
        "**Study the Program below, run it and then answer the following questions**"
      ]
    },
    {
      "cell_type": "code",
      "execution_count": null,
      "metadata": {
        "colab": {
          "base_uri": "https://localhost:8080/"
        },
        "id": "BqBTty69MgSv",
        "outputId": "da4479ad-864c-4128-f59a-536fd201b0ba"
      },
      "outputs": [
        {
          "name": "stdout",
          "output_type": "stream",
          "text": [
            "Enter Age 10\n",
            "You are old enough to look after a dog\n"
          ]
        }
      ],
      "source": [
        "# Program 9c\n",
        "# Owning a Dog \n",
        "Age = int(input(\"Enter Age \"))\n",
        "if Age >=10:\n",
        "  print(\"You are old enough to look after a dog\")\n",
        "else:\n",
        "  print(\"You are too young to look after a dog\")\n"
      ]
    },
    {
      "cell_type": "markdown",
      "metadata": {
        "id": "3cxp-j1AsYYi"
      },
      "source": [
        "**Exercise 6c - Type in the Above Program and Run it**"
      ]
    },
    {
      "cell_type": "code",
      "execution_count": null,
      "metadata": {
        "colab": {
          "base_uri": "https://localhost:8080/"
        },
        "id": "mfNvlYi0NXST",
        "outputId": "b7bab86c-a998-40ca-f08b-9722193d21dc"
      },
      "outputs": [
        {
          "name": "stdout",
          "output_type": "stream",
          "text": [
            "Enter Age 15\n",
            "you can look after a dog\n"
          ]
        }
      ],
      "source": [
        "Age = int(input(\"Enter Age\"))\n",
        "if Age >=10:\n",
        "  print(\"you can look after a dog\")\n",
        "else:\n",
        "  print(\"you are to young to look after a dog\")"
      ]
    },
    {
      "cell_type": "markdown",
      "metadata": {
        "id": "U9x_mhh57KEW"
      },
      "source": [
        ""
      ]
    },
    {
      "cell_type": "markdown",
      "metadata": {
        "id": "TIiS4uGXNciY"
      },
      "source": [
        "**Exercise 6d - Write a Program which asks for a Person's Age. If the Age is greater than or equal to 18 (>=18) then the Program says that the person is old enough to vote otherwise the program says the person is too young to vote**"
      ]
    },
    {
      "cell_type": "code",
      "execution_count": null,
      "metadata": {
        "colab": {
          "base_uri": "https://localhost:8080/"
        },
        "id": "XGZAub5ROa9Z",
        "outputId": "9e72cff4-e8ab-4b1d-c345-43d706a16380"
      },
      "outputs": [
        {
          "name": "stdout",
          "output_type": "stream",
          "text": [
            "Enter age 25\n",
            "you can vote if you want.\n"
          ]
        }
      ],
      "source": [
        "Age = int(input(\"Enter age\"))\n",
        "if Age >=18:\n",
        "  print(\"you can vote if you want.\")\n",
        "else:\n",
        "  print(\"you are to young to vote\")"
      ]
    },
    {
      "cell_type": "markdown",
      "metadata": {
        "id": "KTcc7ckgOmMC"
      },
      "source": [
        "**Study the Program below, run it and then answer the following questions**"
      ]
    },
    {
      "cell_type": "code",
      "execution_count": null,
      "metadata": {
        "colab": {
          "base_uri": "https://localhost:8080/"
        },
        "id": "zZmzS3uWOqZd",
        "outputId": "0ea3820c-5911-4205-87e5-0bb461de7fb1"
      },
      "outputs": [
        {
          "name": "stdout",
          "output_type": "stream",
          "text": [
            "How many minutes to do you spend watching TV each day?15\n",
            "That is a long time\n"
          ]
        }
      ],
      "source": [
        "# Program 9d\n",
        "Minutes = int(input(\"How many minutes to do you spend watching TV each day?\"))\n",
        "if Minutes >=15:\n",
        "  print(\"That is a long time\")\n",
        "else:\n",
        "  print(\"That looks ok\")"
      ]
    },
    {
      "cell_type": "code",
      "execution_count": null,
      "metadata": {
        "id": "oudkWftgQ8Kv"
      },
      "outputs": [],
      "source": [
        ""
      ]
    },
    {
      "cell_type": "markdown",
      "metadata": {
        "id": "aCrxwmZCPPIZ"
      },
      "source": [
        "**Exercise 6e - Type in the Above Program and Run it**"
      ]
    },
    {
      "cell_type": "code",
      "execution_count": null,
      "metadata": {
        "id": "ZUvxOaaXPowQ"
      },
      "outputs": [],
      "source": [
        "#Insert Code Here"
      ]
    },
    {
      "cell_type": "markdown",
      "metadata": {
        "id": "WY1VEMvoPsvs"
      },
      "source": [
        "**Exercise 6f - Write a Program which asks you how many minutes it takes you to get to walk to the local shops. If it takes 20 minutes or more than the program will say that it is a very long time and if it less than 20 minutes the program will say that it is a good amount of time**"
      ]
    },
    {
      "cell_type": "code",
      "execution_count": null,
      "metadata": {
        "id": "2ixNfF73Q9Cz"
      },
      "outputs": [],
      "source": [
        "#Insert Code Here"
      ]
    },
    {
      "cell_type": "markdown",
      "metadata": {
        "id": "8Vin9jSMDA3t"
      },
      "source": [
        "## **Section 4.2 Writing Programs with FOR Statements**"
      ]
    },
    {
      "cell_type": "markdown",
      "metadata": {
        "id": "MS4eYGPYDISZ"
      },
      "source": [
        "**Study the Programs below (9e and 9f) and their Outputs and then complete the associated Exercises 6G and 6H**|"
      ]
    },
    {
      "cell_type": "code",
      "execution_count": null,
      "metadata": {
        "colab": {
          "base_uri": "https://localhost:8080/"
        },
        "id": "YPJmDzLODXMB",
        "outputId": "a3d57cd0-fd2f-4ff8-854a-0fbb06229ee8"
      },
      "outputs": [
        {
          "name": "stdout",
          "output_type": "stream",
          "text": [
            "0\n",
            "1\n",
            "2\n",
            "3\n",
            "4\n"
          ]
        }
      ],
      "source": [
        "# Program 9e\n",
        "for j in range(5):\n",
        "  print(j)"
      ]
    },
    {
      "cell_type": "code",
      "execution_count": null,
      "metadata": {
        "colab": {
          "base_uri": "https://localhost:8080/"
        },
        "id": "Fl5hLbh4DgQK",
        "outputId": "32a99ee2-6202-4257-9b79-eeb1f50feb94"
      },
      "outputs": [
        {
          "name": "stdout",
          "output_type": "stream",
          "text": [
            "0\n",
            "1\n",
            "2\n",
            "3\n",
            "4\n",
            "5\n",
            "6\n",
            "7\n",
            "8\n",
            "9\n"
          ]
        }
      ],
      "source": [
        "#Program 9f\n",
        "for j in range(10):\n",
        "  print(j)"
      ]
    },
    {
      "cell_type": "markdown",
      "metadata": {
        "id": "qW0W8WSLDmfU"
      },
      "source": [
        "**Exercise 6G - Type in the above program and run it**"
      ]
    },
    {
      "cell_type": "code",
      "execution_count": null,
      "metadata": {
        "id": "JmRUP2heDpmq"
      },
      "outputs": [],
      "source": [
        "#Insert Code Here"
      ]
    },
    {
      "cell_type": "markdown",
      "metadata": {
        "id": "r7vJeiGZD47r"
      },
      "source": [
        "**Exercise 6H- Now Write a Program which generates the Numbers 0 to 6**"
      ]
    },
    {
      "cell_type": "code",
      "execution_count": null,
      "metadata": {
        "id": "FxRzKXcID9XS"
      },
      "outputs": [],
      "source": [
        "#Insert Code Here"
      ]
    },
    {
      "cell_type": "markdown",
      "metadata": {
        "id": "2NhNkkJHECCP"
      },
      "source": [
        "**Study the Programs 9g and 9h below and their Outputs and then complete Exercises 6I and 6J**"
      ]
    },
    {
      "cell_type": "code",
      "execution_count": null,
      "metadata": {
        "colab": {
          "base_uri": "https://localhost:8080/"
        },
        "id": "T9RM_gU7EIxg",
        "outputId": "acf825f2-56f3-42c1-a72a-50f6212bba18"
      },
      "outputs": [
        {
          "name": "stdout",
          "output_type": "stream",
          "text": [
            "1\n",
            "2\n",
            "3\n",
            "4\n",
            "5\n"
          ]
        }
      ],
      "source": [
        "# Program 9g\n",
        "for j in range(1,6):\n",
        "  print(j)"
      ]
    },
    {
      "cell_type": "code",
      "execution_count": null,
      "metadata": {
        "colab": {
          "base_uri": "https://localhost:8080/"
        },
        "id": "VAhOWZT5ERsV",
        "outputId": "29354ff4-ff02-4e9e-bdb8-ab4e007194bd"
      },
      "outputs": [
        {
          "name": "stdout",
          "output_type": "stream",
          "text": [
            "2\n",
            "3\n",
            "4\n",
            "5\n",
            "6\n",
            "7\n"
          ]
        }
      ],
      "source": [
        "# Program 9h\n",
        "for j in range(2,8):\n",
        "  print(j)"
      ]
    },
    {
      "cell_type": "markdown",
      "metadata": {
        "id": "6XK1CQRUG3py"
      },
      "source": [
        "**Exercise 6I - Type in the Above Program and run it**"
      ]
    },
    {
      "cell_type": "code",
      "execution_count": null,
      "metadata": {
        "id": "o7E5gIscG7t7"
      },
      "outputs": [],
      "source": [
        "#Insert Code Here"
      ]
    },
    {
      "cell_type": "markdown",
      "metadata": {
        "id": "nJcoTLDZEXCV"
      },
      "source": [
        "**Exercise 6J - Write a Program which generates the numbers 3 to 9**"
      ]
    },
    {
      "cell_type": "code",
      "execution_count": null,
      "metadata": {
        "id": "NujKfN-cG2DK"
      },
      "outputs": [],
      "source": [
        "# Insert Code Here"
      ]
    },
    {
      "cell_type": "markdown",
      "metadata": {
        "id": "jK5a-TNkHFPM"
      },
      "source": [
        "**Study the Programs 9i and 9j below and their outputs and then complete Exercises 6K, 6L, 6M and 6N**"
      ]
    },
    {
      "cell_type": "code",
      "execution_count": null,
      "metadata": {
        "colab": {
          "base_uri": "https://localhost:8080/"
        },
        "id": "yVEHKVccHO4f",
        "outputId": "61c1942c-6627-4de4-eb13-42178790d053"
      },
      "outputs": [
        {
          "name": "stdout",
          "output_type": "stream",
          "text": [
            "The 10 times table\n",
            "1 * 10 =  10\n",
            "2 * 10 =  20\n",
            "3 * 10 =  30\n",
            "4 * 10 =  40\n",
            "5 * 10 =  50\n",
            "6 * 10 =  60\n",
            "7 * 10 =  70\n",
            "8 * 10 =  80\n",
            "9 * 10 =  90\n",
            "10 * 10 =  100\n"
          ]
        }
      ],
      "source": [
        "# Program 9i\n",
        "print(\"The 10 times table\")\n",
        "Number = 10\n",
        "for j in range(1,11):\n",
        "  Product = Number*j\n",
        "  print(j,\"*\", Number, \"= \",Product) "
      ]
    },
    {
      "cell_type": "code",
      "execution_count": null,
      "metadata": {
        "colab": {
          "base_uri": "https://localhost:8080/"
        },
        "id": "5AzVU98NHs5w",
        "outputId": "76b6f9ea-5daf-4d30-befa-e794373a2b17"
      },
      "outputs": [
        {
          "name": "stdout",
          "output_type": "stream",
          "text": [
            "The 13 times table\n",
            "1 * 13 =  13\n",
            "2 * 13 =  26\n",
            "3 * 13 =  39\n",
            "4 * 13 =  52\n",
            "5 * 13 =  65\n",
            "6 * 13 =  78\n",
            "7 * 13 =  91\n",
            "8 * 13 =  104\n",
            "9 * 13 =  117\n",
            "10 * 13 =  130\n"
          ]
        }
      ],
      "source": [
        "#Program 9j\n",
        "print(\"The 13 times table\")\n",
        "Number = 13\n",
        "for j in range(1,11):\n",
        "  Product = Number*j\n",
        "  print(j,\"*\", Number, \"= \",Product) "
      ]
    },
    {
      "cell_type": "markdown",
      "metadata": {
        "id": "Il4hNoX-IcS8"
      },
      "source": [
        "**Exercise 6K - Type in the Above Program and run it**"
      ]
    },
    {
      "cell_type": "code",
      "execution_count": null,
      "metadata": {
        "id": "yZE-Kqk0IiNk"
      },
      "outputs": [],
      "source": [
        "#Insert Code Here"
      ]
    },
    {
      "cell_type": "markdown",
      "metadata": {
        "id": "YnPz7D7dImjT"
      },
      "source": [
        "**Exercise 6L - Write a Program which outputs the 7 times table**"
      ]
    },
    {
      "cell_type": "code",
      "execution_count": null,
      "metadata": {
        "id": "xMyTscgzIqRk"
      },
      "outputs": [],
      "source": [
        "#Insert Code Here"
      ]
    },
    {
      "cell_type": "markdown",
      "metadata": {
        "id": "v0CU-0jLItMu"
      },
      "source": [
        "**Exercise 6M - Write a Program which outputs the 16 times table**"
      ]
    },
    {
      "cell_type": "code",
      "execution_count": null,
      "metadata": {
        "id": "McxV83F8I1J9"
      },
      "outputs": [],
      "source": [
        "#Insert Code Here"
      ]
    },
    {
      "cell_type": "markdown",
      "metadata": {
        "id": "ltrPf02hI5zg"
      },
      "source": [
        "**Exercise 6N- Write a Program which outputs the 1st 5 square numbers, that is 1,4,9,16 and 25**\n",
        "<br>**For this you need to know 3$**$2=9 where $**2$ means squared**"
      ]
    },
    {
      "cell_type": "code",
      "execution_count": null,
      "metadata": {
        "id": "_ZQCmMFXJBSw"
      },
      "outputs": [],
      "source": [
        "#Insert Code Here"
      ]
    },
    {
      "cell_type": "markdown",
      "metadata": {
        "id": "fl5pwNU31m5O"
      },
      "source": [
        "##**Section 4.3 Writing Programs with the Random Module**"
      ]
    },
    {
      "cell_type": "markdown",
      "metadata": {
        "id": "JrWhEZLG1xJA"
      },
      "source": [
        "**Study the Programs below and Answer the Following Questions**"
      ]
    },
    {
      "cell_type": "code",
      "execution_count": null,
      "metadata": {
        "colab": {
          "base_uri": "https://localhost:8080/"
        },
        "id": "HSXLLl7C1vfZ",
        "outputId": "1228b34c-2aac-4d45-c8bb-95e59281d6a7"
      },
      "outputs": [
        {
          "name": "stdout",
          "output_type": "stream",
          "text": [
            "3\n"
          ]
        }
      ],
      "source": [
        "#Exercise 9k\n",
        "# Generating a Random Number\n",
        "import random\n",
        "r = random.randint(1,6)\n",
        "print(r)"
      ]
    },
    {
      "cell_type": "code",
      "execution_count": null,
      "metadata": {
        "colab": {
          "base_uri": "https://localhost:8080/"
        },
        "id": "naDCrcqF2KK7",
        "outputId": "f4a8933f-5126-495f-e501-ff88bd021e99"
      },
      "outputs": [
        {
          "name": "stdout",
          "output_type": "stream",
          "text": [
            "2\n"
          ]
        }
      ],
      "source": [
        "# Exercise 9l\n",
        "# Generating a Random Number\n",
        "import random\n",
        "r = random.randint(1,10)\n",
        "print(r)"
      ]
    },
    {
      "cell_type": "markdown",
      "metadata": {
        "id": "2yNs_JGY2GDG"
      },
      "source": [
        "**Exercise 60 - Type in the Above Program and Run it**"
      ]
    },
    {
      "cell_type": "code",
      "execution_count": null,
      "metadata": {
        "id": "WHbY7d-w2cIX"
      },
      "outputs": [],
      "source": [
        "#Insert Code"
      ]
    },
    {
      "cell_type": "markdown",
      "metadata": {
        "id": "B4DVPq9S38Ep"
      },
      "source": [
        "**Exercise 6P- Write a Program which Generates a Random Number between 1 and 100**"
      ]
    },
    {
      "cell_type": "code",
      "execution_count": null,
      "metadata": {
        "id": "lu_FYbzU4W9r"
      },
      "outputs": [],
      "source": [
        "#Insert Code Here"
      ]
    },
    {
      "cell_type": "markdown",
      "metadata": {
        "id": "YlpHehFV4bK2"
      },
      "source": [
        "**Exercise 6Q - Write a Program which Generates a Random Number between 6 and 10**"
      ]
    },
    {
      "cell_type": "code",
      "execution_count": null,
      "metadata": {
        "id": "dssgmk5z4vND"
      },
      "outputs": [],
      "source": [
        "#Insert Code Here"
      ]
    },
    {
      "cell_type": "markdown",
      "metadata": {
        "id": "rZPV8ULE2egR"
      },
      "source": [
        "**Study the Program below and answer the following Questions**\n",
        "\n",
        "\n"
      ]
    },
    {
      "cell_type": "code",
      "execution_count": null,
      "metadata": {
        "colab": {
          "base_uri": "https://localhost:8080/"
        },
        "id": "yorBzHyC2wt3",
        "outputId": "c0ab1828-43f4-4377-c594-ece3ce0253d9"
      },
      "outputs": [
        {
          "name": "stdout",
          "output_type": "stream",
          "text": [
            "Player1  82\n",
            "Player2  56\n",
            "Player1 has won\n"
          ]
        }
      ],
      "source": [
        "# Exercise 9M\n",
        "# A Game\n",
        "import random\n",
        "Player1 = random.randint(1,100)\n",
        "print(\"Player1 \", Player1)\n",
        "Player2 = random.randint(1,100)\n",
        "print(\"Player2 \", Player2)\n",
        "\n",
        "if Player1 > Player2:\n",
        "  print(\"Player1 has won\")\n",
        "elif Player2 > Player1:\n",
        "  print(\"Player2 has won\")\n",
        "else:\n",
        "  print(\"This is a  Draw\")\n",
        "\n",
        "\n",
        "\n"
      ]
    },
    {
      "cell_type": "markdown",
      "metadata": {
        "id": "IZ-kFmr243ia"
      },
      "source": [
        "**Exercise 6R - Type in the Above Program and Run it**"
      ]
    },
    {
      "cell_type": "code",
      "execution_count": null,
      "metadata": {
        "id": "8uENZNy347vK"
      },
      "outputs": [],
      "source": [
        "#Insert Code Here"
      ]
    },
    {
      "cell_type": "markdown",
      "metadata": {
        "id": "pm2qg4Et5KDU"
      },
      "source": [
        "**Exercise 6S- Write a Program in which both Player1 and Player2 generate random numbers between 1 and 500 and the Program reports whether Player1 has won, Player2 has won or it is a draw**"
      ]
    },
    {
      "cell_type": "code",
      "execution_count": null,
      "metadata": {
        "id": "sNqZU4iF5fQk"
      },
      "outputs": [],
      "source": [
        "#Insert code"
      ]
    },
    {
      "cell_type": "markdown",
      "metadata": {
        "id": "5TQkiCE06z65"
      },
      "source": [
        "**Study the Program below and then answer the following questions**"
      ]
    },
    {
      "cell_type": "code",
      "execution_count": null,
      "metadata": {
        "colab": {
          "base_uri": "https://localhost:8080/"
        },
        "id": "niMMmUKp633V",
        "outputId": "1e00535b-e714-47ca-f9cb-e3c0da75417e"
      },
      "outputs": [
        {
          "name": "stdout",
          "output_type": "stream",
          "text": [
            "Player1  28\n",
            "Enter a Number between 1 and 100 23\n",
            "User_Input  23\n",
            "Player1 has won\n"
          ]
        }
      ],
      "source": [
        "#Exercise 6n\n",
        "# A Game\n",
        "import random\n",
        "Player1 = random.randint(1,100)\n",
        "print(\"Player1 \", Player1)\n",
        "User_Input = int(input(\"Enter a Number between 1 and 100 \"))\n",
        "print(\"User_Input \", User_Input)\n",
        "\n",
        "if Player1 > User_Input:\n",
        "  print(\"Player1 has won\")\n",
        "elif User_Input > Player1:\n",
        "  print(\"You have won\")\n",
        "else:\n",
        "  print(\"This is a  Draw\")"
      ]
    },
    {
      "cell_type": "markdown",
      "metadata": {
        "id": "tLDjZzia7oRy"
      },
      "source": [
        "**Exercise 6T - Type in the Program Above and Run it**"
      ]
    },
    {
      "cell_type": "code",
      "execution_count": null,
      "metadata": {
        "id": "WiiysWmc7r8Z"
      },
      "outputs": [],
      "source": [
        "#Insert Code Here"
      ]
    },
    {
      "cell_type": "markdown",
      "metadata": {
        "id": "Dvpnw2ZN5t3z"
      },
      "source": [
        "**Study the Program below and answer the following questions**"
      ]
    },
    {
      "cell_type": "code",
      "execution_count": null,
      "metadata": {
        "colab": {
          "base_uri": "https://localhost:8080/"
        },
        "id": "97yEPhZw5I1U",
        "outputId": "1d9f4a6f-3c71-4c27-e891-8da7d4ec6044"
      },
      "outputs": [
        {
          "name": "stdout",
          "output_type": "stream",
          "text": [
            "David\n"
          ]
        }
      ],
      "source": [
        "#Exercise 6o\n",
        "import random\n",
        "Names = ['Anna','Alex','David','Ali']\n",
        "Choice = random.choice(Names)\n",
        "print(Choice)"
      ]
    },
    {
      "cell_type": "markdown",
      "metadata": {
        "id": "51x8DRuT8e4J"
      },
      "source": [
        "**Exercise 6U - Write a Program in which you create a list of 5 countries and the program randomly chooses one of the countries**"
      ]
    },
    {
      "cell_type": "code",
      "execution_count": null,
      "metadata": {
        "id": "jXEC2tuV8qb2"
      },
      "outputs": [],
      "source": [
        "#Insert Code"
      ]
    },
    {
      "cell_type": "markdown",
      "metadata": {
        "id": "8yD0caD9s3dH"
      },
      "source": [
        "## **Section 5.0 Writing Programs Related to Area and Volume**"
      ]
    },
    {
      "cell_type": "markdown",
      "metadata": {
        "id": "Ewb4X3_Nqv-8"
      },
      "source": [
        ""
      ]
    },
    {
      "cell_type": "markdown",
      "metadata": {
        "id": "SSRisISWy5Dw"
      },
      "source": [
        "**Study Example 1 below and then do Exercise 7**"
      ]
    },
    {
      "cell_type": "code",
      "execution_count": null,
      "metadata": {
        "colab": {
          "base_uri": "https://localhost:8080/"
        },
        "id": "L6oG2rKQzNDx",
        "outputId": "8b5b21f1-5882-460f-ca41-1f87d308f6ad"
      },
      "outputs": [
        {
          "name": "stdout",
          "output_type": "stream",
          "text": [
            "Enter the Length of Square 3.68\n",
            "The Area of the Square is  13.5424  cm squared\n"
          ]
        }
      ],
      "source": [
        "# Example 9\n",
        "# Calculating and Outputting the Area of a Square\n",
        "Length = float(input(\"Enter the Length of Square \"))\n",
        "Area = Length*Length\n",
        "print(\"The Area of the Square is \", round(Area,4), \" cm squared\")"
      ]
    },
    {
      "cell_type": "markdown",
      "metadata": {
        "id": "R1fjp8hYzo1-"
      },
      "source": [
        "**Exercise 7 - Write a Program which invites the user to enter the Width and Height of a Rectangle and then calculates and outputs its area**"
      ]
    },
    {
      "cell_type": "code",
      "execution_count": null,
      "metadata": {
        "colab": {
          "base_uri": "https://localhost:8080/"
        },
        "id": "PLnMbSOX8_g6",
        "outputId": "e894b4e7-4cd2-4dbf-a811-7dfc2cd42671"
      },
      "outputs": [
        {
          "name": "stdout",
          "output_type": "stream",
          "text": [
            "Enter the length of a square 16.5\n",
            "The Area of the square is 272.25 cm squared\n"
          ]
        }
      ],
      "source": [
        "# Insert Code\n",
        "Length = float(input(\"Enter the length of a square\"))\n",
        "Area = Length*Length\n",
        "print(\"The Area of the square is\", round(Area,4), \"cm squared\")"
      ]
    },
    {
      "cell_type": "markdown",
      "metadata": {
        "id": "3fUzmwLY0ObP"
      },
      "source": [
        "**Study Example 10 below which calculates and outputs the area of a circle and do Exercises 8,9,10**\n",
        "\n",
        "<br>(Note the Formula for Area of a Circle = $\\pi * Radius^2$)\n",
        "<br> Also you will need to know the following:-\n",
        "\n",
        "\n",
        "1.   'float' means that you can input decimal numbers such as 3.4, 9.6.\n",
        "2.   'round' means output to 2 decimal places\n",
        "3.    '**2' means to the power 2 or squared\n",
        "\n"
      ]
    },
    {
      "cell_type": "code",
      "execution_count": null,
      "metadata": {
        "colab": {
          "base_uri": "https://localhost:8080/"
        },
        "id": "HFgQAOpe0TQp",
        "outputId": "67a40116-07c4-479e-fbad-be3279758f07"
      },
      "outputs": [
        {
          "name": "stdout",
          "output_type": "stream",
          "text": [
            "Enter the Radius of a Circle in cm 5\n",
            " The area of a circle is  78.55  cm square\n"
          ]
        }
      ],
      "source": [
        "# Example 10\n",
        "# Calculating the area of a circle\n",
        "PI = 3.142\n",
        "Radius = float(input(\"Enter the Radius of a Circle in cm \"))\n",
        "Area = PI *Radius**2 \n",
        "print(\" The area of a circle is \", round(Area,2), \" cm square\")"
      ]
    },
    {
      "cell_type": "markdown",
      "metadata": {
        "id": "J_Dsjm081OGd"
      },
      "source": [
        "**<br>Exercise 8 - Write a Program which calculates the circumference of a circle and outputs the result to 2 decimal places</br>**\n",
        "**<br>(Formula: Circumference of a Circle = $2*\\pi*Radius$)</br>**\n",
        "**<br>(To round to 2 decimal places use round(Circumference,2) - so here we round Circumference to 2 decimal places</br>**"
      ]
    },
    {
      "cell_type": "code",
      "execution_count": null,
      "metadata": {
        "colab": {
          "base_uri": "https://localhost:8080/"
        },
        "id": "awtlJAAH1dEA",
        "outputId": "0039744d-b64d-48a3-9240-7a1031e94a00"
      },
      "outputs": [
        {
          "name": "stdout",
          "output_type": "stream",
          "text": [
            "Enter the Radius of a Circle in cm 4\n",
            " The Circumference of a circle is  25.14  cm square\n"
          ]
        }
      ],
      "source": [
        "# Calculating the Circumference of a circle\n",
        "PI = 3.142\n",
        "Radius = float(input(\"Enter the Radius of a Circle in cm\"))\n",
        "Circumference = 2*PI*Radius\n",
        "print(\" The Circumference of a circle is \", round(Circumference,2), \" cm square\")"
      ]
    },
    {
      "cell_type": "code",
      "execution_count": null,
      "metadata": {
        "id": "3qgprnvJKkjc"
      },
      "outputs": [],
      "source": [
        ""
      ]
    },
    {
      "cell_type": "code",
      "execution_count": null,
      "metadata": {
        "colab": {
          "base_uri": "https://localhost:8080/"
        },
        "id": "8ZKtiHKUI__g",
        "outputId": "9b06b9bb-c501-4a50-b183-4bdee437108c"
      },
      "outputs": [
        {
          "name": "stdout",
          "output_type": "stream",
          "text": [
            "Enter the Radius of a Circle in cm13.5\n",
            "The area of a circle is 572.63 cm square\n"
          ]
        }
      ],
      "source": [
        "PI = 3.142 \n",
        "Radius = float(input(\"Enter the Radius of a Circle in cm\"))\n",
        "Area = PI *Radius**2\n",
        "print(\"The area of a circle is\", round(Area,2), \"cm square\")"
      ]
    },
    {
      "cell_type": "markdown",
      "metadata": {
        "id": "D1bIsMfT2bto"
      },
      "source": [
        "**Exercise 9 - Write a Program which asks the user to input a number and then calculates and displays the cube of the number**\n",
        "<br><br>Note 2$**$3 means to 2 the Power 3 or Cubed (2$*$2$*$2=8)\n",
        "<br><br>Note 2$**$4 means to 2 the Power 4 (2$*$2$*$2*2=16)\n"
      ]
    },
    {
      "cell_type": "code",
      "execution_count": null,
      "metadata": {
        "colab": {
          "base_uri": "https://localhost:8080/"
        },
        "id": "2BPJSVB23avP",
        "outputId": "165043fd-c76f-4760-f4ce-b4a60401409f"
      },
      "outputs": [
        {
          "name": "stdout",
          "output_type": "stream",
          "text": [
            "Enter a number 5\n",
            "5 cubed is 125\n"
          ]
        }
      ],
      "source": [
        "# Calculate and display the cube of the number\n",
        "Number = int(input(\"Enter a number\"))\n",
        "Cubed = Number**3\n",
        "print(Number, \"cubed is\", Cubed)\n"
      ]
    },
    {
      "cell_type": "markdown",
      "metadata": {
        "id": "8dxtdp7D3iEC"
      },
      "source": [
        "**Exercise 10 - Write a Program which asks the user to input the length of a side of a cube and calculates and outputs the volume of the cube**\n",
        "<br><br>Volume of a Cube = Length$*$Length*Length\n",
        "<br>OR\n",
        "<br>Volume of a Cube = Length$**$3\n"
      ]
    },
    {
      "cell_type": "code",
      "execution_count": null,
      "metadata": {
        "colab": {
          "base_uri": "https://localhost:8080/"
        },
        "id": "0oal45YI3vLv",
        "outputId": "0ec2ff3e-42da-4ca3-81e9-9dc7002a7648"
      },
      "outputs": [
        {
          "name": "stdout",
          "output_type": "stream",
          "text": [
            "Enter a number 13\n",
            "13 cubed is 2197\n"
          ]
        }
      ],
      "source": [
        "Number = int(input(\"Enter a number\"))\n",
        "Cubed = Number**3\n",
        "print(Number, \"cubed is\", Cubed)"
      ]
    },
    {
      "cell_type": "markdown",
      "metadata": {
        "id": "nzSrSOXBTYgl"
      },
      "source": [
        "## **Section 6.0 Functions with Currency Conversion Program and Calculator Program**"
      ]
    },
    {
      "cell_type": "markdown",
      "metadata": {
        "id": "r6Dm40-rBMz_"
      },
      "source": [
        "**Study Example 11 and its output, and then do Exercise 11**"
      ]
    },
    {
      "cell_type": "code",
      "execution_count": null,
      "metadata": {
        "colab": {
          "base_uri": "https://localhost:8080/"
        },
        "id": "F_8f4qU9Bf-1",
        "outputId": "15688850-cf46-4ff5-fb54-450b6f8e110e"
      },
      "outputs": [
        {
          "name": "stdout",
          "output_type": "stream",
          "text": [
            "Enter 1 if you would like to convert Pounds to Dollars \n",
            "Enter 2 if you would like to convert Dollars to Pounds \n",
            "Enter 3 if you would like to convert Pounds to Yen \n",
            "Enter Number 1\n",
            "Enter Pounds 1\n",
            "1.38\n"
          ]
        }
      ],
      "source": [
        "# Example 11\n",
        "# Currency Conversions\n",
        "def Pound_Dollar():\n",
        "  Pound = int(input(\"Enter Pounds \"))\n",
        "  Dollar = Pound * 1.38\n",
        "  print(Dollar)\n",
        "\n",
        "def Dollar_Pound():\n",
        "  Dollar = int(input(\"Enter Dollars \"))\n",
        "  Pound = Dollar * 0.73\n",
        "  print(Pound)\n",
        "  \n",
        "\n",
        "def Pound_Yen():\n",
        "  Pound = int(input(\"Enter Pounds \"))\n",
        "  Yen = Pound * 153.61\n",
        "  print(Yen)\n",
        "  \n",
        "  \n",
        "def main():\n",
        "  print(\"Enter 1 if you would like to convert Pounds to Dollars \")\n",
        "  print(\"Enter 2 if you would like to convert Dollars to Pounds \")\n",
        "  print(\"Enter 3 if you would like to convert Pounds to Yen \")\n",
        "  Answer = input(\"Enter Number \")\n",
        "  if Answer == \"1\":\n",
        "    Pound_Dollar()\n",
        "  elif Answer == \"2\":\n",
        "    Dollar_Pound()\n",
        "  elif Answer == \"3\":\n",
        "    Pound_Yen()\n",
        "  else:\n",
        "    print(\"Invalid Answer\")\n",
        "\n",
        "main()\n"
      ]
    },
    {
      "cell_type": "markdown",
      "metadata": {
        "id": "5V8qx8djB_br"
      },
      "source": [
        "**Exercise 11 - Now extend the program so that it converts 3 more currencies of your choice**"
      ]
    },
    {
      "cell_type": "code",
      "execution_count": null,
      "metadata": {
        "colab": {
          "base_uri": "https://localhost:8080/"
        },
        "id": "zq3tNsPoCMR5",
        "outputId": "91312d91-c221-45f6-cb63-cc894b82a451"
      },
      "outputs": [
        {
          "name": "stdout",
          "output_type": "stream",
          "text": [
            "Enter 1 if you would like to convert Pounds to Dollars \n",
            "Enter 2 if you would like to convert Dollars to Pounds \n",
            "Enter 3 if you would like to convert Pounds to Yen \n",
            "Enter 4 if you would like to convert Pounds to Euro \n",
            "Enter 5 if you would like to convert Dollars to Euro \n",
            "Enter 6 if you would like to convert Dollars to Pound_sterling \n",
            "Enter 7 if you would like to convert Dollars to Serbian_dinar \n",
            "Enter Number 2\n",
            "Enter Dollars 10\n",
            "7.3\n"
          ]
        }
      ],
      "source": [
        "# Example 3 \n",
        "# Currency Conversions\n",
        "def Pound_Dollar():\n",
        "  Pound = int(input(\"Enter Pounds \"))\n",
        "  Dollar = Pound * 1.38\n",
        "  print(Dollar)\n",
        "\n",
        "def Dollar_Pound():\n",
        "  Dollar = int(input(\"Enter Dollars \"))\n",
        "  Pound = Dollar * 0.73\n",
        "  print(Pound)\n",
        "  \n",
        "\n",
        "def Pound_Yen():\n",
        "  Pound = int(input(\"Enter Pounds \"))\n",
        "  Yen = Pound * 153.61\n",
        "  print(Yen)\n",
        "\n",
        "\n",
        "def Euro_Pound():\n",
        "  Euro = int(input(\"Enter Euro \"))\n",
        "  Pound = Euro * 0.73\n",
        "  print(Pound) \n",
        "\n",
        "  \n",
        "def Pound_sterling_Pound():\n",
        "  Pound_sterling = int(input(\"Enter Pound_sterling \"))\n",
        "  Pound = Pound_sterling * 0.73\n",
        "  print(Pound)\n",
        "\n",
        "\n",
        "def Serbian_dinar_Pound():\n",
        "  Serbian_dinar = int(input(\"Enter Serbian_dinar \"))\n",
        "  Pound = Serbian_dinar * 0.73\n",
        "  print(Pound)     \n",
        "\n",
        "  \n",
        "def main():\n",
        "  print(\"Enter 1 if you would like to convert Pounds to Dollars \")\n",
        "  print(\"Enter 2 if you would like to convert Dollars to Pounds \")\n",
        "  print(\"Enter 3 if you would like to convert Pounds to Yen \")\n",
        "  print(\"Enter 4 if you would like to convert Pounds to Euro \") \n",
        "  print(\"Enter 5 if you would like to convert Dollars to Euro \")\n",
        "  print(\"Enter 6 if you would like to convert Dollars to Pound_sterling \")\n",
        "  print(\"Enter 7 if you would like to convert Dollars to Serbian_dinar \")\n",
        "  Answer = input(\"Enter Number \")  \n",
        "  if Answer == \"1\":\n",
        "    Pound_Dollar()\n",
        "  elif Answer == \"2\":\n",
        "    Dollar_Pound()\n",
        "  elif Answer == \"3\":\n",
        "    Pound_Yen()\n",
        "  elif Answer == \"4\":\n",
        "    Pound_Euro()\n",
        "  elif Answer == \"5\":\n",
        "    Dollars_Euro()\n",
        "  elif Answer == \"6\":\n",
        "    Dollars_Pound_sterling()\n",
        "  elif Answer == \"7\":\n",
        "    Dollars_Serbian_dinar()\n",
        "  else:\n",
        "    print(\"Invalid Answer\")\n",
        "\n",
        "main()\n"
      ]
    },
    {
      "cell_type": "markdown",
      "metadata": {
        "id": "KJv9TtkvLIwk"
      },
      "source": [
        "**Study Example 12, its output and do Exercise 12**"
      ]
    },
    {
      "cell_type": "code",
      "execution_count": null,
      "metadata": {
        "colab": {
          "base_uri": "https://localhost:8080/"
        },
        "id": "4qCy5rKkLPxF",
        "outputId": "51d2014d-a8bd-46e4-9eeb-144d4630aa52"
      },
      "outputs": [
        {
          "name": "stdout",
          "output_type": "stream",
          "text": [
            "Select operation.\n",
            "1.Add\n",
            "2.Subtract\n",
            "Enter choice(1/2) 1\n",
            "Enter first number: 2\n",
            "Enter second number: 3\n",
            "5\n",
            "Program has Ended\n"
          ]
        }
      ],
      "source": [
        "# Example 12\n",
        "# Calculator\n",
        "def Addition(x,y):\n",
        "  Result = x+y\n",
        "  print(Result)\n",
        "\n",
        "def Subtraction(x,y):\n",
        "  Result = x-y\n",
        "  print(Result)\n",
        "  \n",
        "def main():\n",
        "\n",
        "  print(\"Select operation.\")\n",
        "  print(\"1.Add\")\n",
        "  print(\"2.Subtract\")\n",
        "\n",
        "  choice = input(\"Enter choice(1/2) \") \n",
        "\n",
        "  \n",
        "\n",
        "  # Check if choice is one of the two options\n",
        "  if choice in ('1', '2'):\n",
        "      num1 = int(input(\"Enter first number: \"))\n",
        "      num2 = int(input(\"Enter second number: \"))\n",
        "\n",
        "  if choice == '1':\n",
        "      Addition(num1,num2)\n",
        "  elif choice == '2':\n",
        "      Subtraction(num1,num2)\n",
        "  else:\n",
        "      print(\"Invalid Input\")\n",
        "\n",
        "   # EndWhile\n",
        "      \n",
        "  print(\"Program has Ended\")\n",
        "\n",
        "main()\n"
      ]
    },
    {
      "cell_type": "markdown",
      "metadata": {
        "id": "UgHV5QvtP2xf"
      },
      "source": [
        "**Exercise 12 - Now extend the Program to include:-**\n",
        "\n",
        "\n",
        "1.   Multiplication\n",
        "2.   Division\n",
        "3.   MOD \n",
        "4.   DIV \n",
        "\n",
        "<br><br> Note 8%2 = 0. This means 8 MOD 2 = 0.\n",
        "<br>MOD (Symbol '%' in Python) is the remainder when two numbers are divided by each other.\n",
        "<br><br> Note 8//2 = 4. This means 8 DIV 2 = 4.\n",
        "<br>DIV (Symbol '//' in Python) means the Quotient when two numbers are divided by each other.\n",
        "\n"
      ]
    },
    {
      "cell_type": "code",
      "execution_count": null,
      "metadata": {
        "colab": {
          "base_uri": "https://localhost:8080/"
        },
        "id": "B2bHIhRwRJSc",
        "outputId": "ba8c8a53-5e20-4dc7-89fb-5b2e96f37840"
      },
      "outputs": [
        {
          "name": "stdout",
          "output_type": "stream",
          "text": [
            "Select operation.\n",
            "1.Add\n",
            "2.Subtract\n",
            "3.Multiplication\n",
            "4.DIV\n",
            "5.Division\n",
            "6.MOD\n",
            "Enter choice(1/2/3/4/5/6) 6\n",
            "Enter first number: 1\n",
            "Enter second number: 2\n",
            "1\n"
          ]
        }
      ],
      "source": [
        "# Insert Code Here# Example 4\n",
        "# Calculator\n",
        "def Addition(x,y):\n",
        "  Result = x+y\n",
        "  print(Result)\n",
        "\n",
        "def Subtraction(x,y):\n",
        "  Result = x-y\n",
        "  print(Result)\n",
        "\n",
        "def Multiplication(x,y):\n",
        "  Result = x*y\n",
        "  print(Result)\n",
        "\n",
        "def DIV(x,y):\n",
        "  Result = x//y    \n",
        "  print(Result)\n",
        "\n",
        "def Division(x,y):\n",
        "  Result = x/y    \n",
        "  print(Result)  \n",
        "  \n",
        "\n",
        "def MOD(x,y):\n",
        "  Result = x%y    \n",
        "  print(Result)   \n",
        "  \n",
        "  \n",
        "def main():\n",
        "\n",
        "  print(\"Select operation.\")\n",
        "  print(\"1.Add\")\n",
        "  print(\"2.Subtract\")\n",
        "  print(\"3.Multiplication\")\n",
        "  print(\"4.DIV\")\n",
        "  print(\"5.Division\")\n",
        "  print(\"6.MOD\")\n",
        "\n",
        "  choice = input(\"Enter choice(1/2/3/4/5/6) \") \n",
        "\n",
        "  \n",
        "\n",
        "  # Check if choice is one of the two options\n",
        "  if choice in ('1', '2','3','4','5','6'):\n",
        "      num1 = int(input(\"Enter first number: \"))\n",
        "      num2 = int(input(\"Enter second number: \"))\n",
        "#      num3 = int(input(\"Enter third number: \"))\n",
        "#      num4 = int(input(\"Enter fourth number: \"))\n",
        "#      num5 = int(input(\"Enter fith number: \"))\n",
        "#      num6 = int(input(\"Enter sixth number: \"))\n",
        "\n",
        "  if choice == '1':\n",
        "    Addition(num1,num2)\n",
        "  elif choice == '2':\n",
        "    Subtraction(num1,num2)\n",
        "  elif choice =='3':\n",
        "    Multiplication(num1,num2)\n",
        "  elif choice == '4':\n",
        "    DIV(num1,num2)\n",
        "  elif choice == '5':\n",
        "    Division(num1,num2)\n",
        "  elif choice == '6':\n",
        "    MOD(num1,num2)\n",
        "  else:\n",
        "    print(\"Invalid Input\")\n",
        "\n",
        "   # EndWhile\n",
        "      \n",
        "main()\n"
      ]
    }
  ],
  "metadata": {
    "colab": {
      "collapsed_sections": [
        "RmpdOr-Z8n04",
        "OSwJ_GzW8-v8",
        "L7yovZXP8aXZ",
        "88rJzq_tFl3F",
        "LPlpCJ5uuR8B",
        "BgxZuIggu2tU",
        "8Vin9jSMDA3t",
        "fl5pwNU31m5O",
        "8yD0caD9s3dH",
        "nzSrSOXBTYgl"
      ],
      "name": "Elective_Jan2022_Max.ipynb",
      "provenance": [],
      "include_colab_link": true
    },
    "kernelspec": {
      "display_name": "Python 3",
      "name": "python3"
    },
    "language_info": {
      "name": "python"
    }
  },
  "nbformat": 4,
  "nbformat_minor": 0
}