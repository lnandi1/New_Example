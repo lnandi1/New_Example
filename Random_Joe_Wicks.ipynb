{
 "cells": [
  {
   "cell_type": "code",
   "execution_count": null,
   "metadata": {},
   "outputs": [],
   "source": [
    "# Choosing a Random Set of 3 Exercises\n",
    "import random\n",
    "def Joe_Wicks():\n",
    "    Exercises = [\"Bungee Jumps\", \"Frog Kicks\", \"Squats\",\"Situps\"]\n",
    "    Sampling = random.sample(Exercises, k = 3)\n",
    "    print(Sampling)\n",
    "\n",
    "Joe_Wicks()"
   ]
  },
  {
   "cell_type": "code",
   "execution_count": null,
   "metadata": {},
   "outputs": [],
   "source": []
  },
  {
   "cell_type": "code",
   "execution_count": null,
   "metadata": {},
   "outputs": [],
   "source": []
  }
 ],
 "metadata": {
  "kernelspec": {
   "display_name": "Python 3",
   "language": "python",
   "name": "python3"
  },
  "language_info": {
   "codemirror_mode": {
    "name": "ipython",
    "version": 3
   },
   "file_extension": ".py",
   "mimetype": "text/x-python",
   "name": "python",
   "nbconvert_exporter": "python",
   "pygments_lexer": "ipython3",
   "version": "3.7.4"
  }
 },
 "nbformat": 4,
 "nbformat_minor": 2
}
