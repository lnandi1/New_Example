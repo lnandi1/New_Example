{
 "cells": [
  {
   "cell_type": "markdown",
   "metadata": {},
   "source": [
    "***SET 4 Python Programs***"
   ]
  },
  {
   "cell_type": "raw",
   "metadata": {},
   "source": [
    "(1) Write a function which inputs 2 numbers as parameters  and returns the sum as a product."
   ]
  },
  {
   "cell_type": "code",
   "execution_count": 8,
   "metadata": {},
   "outputs": [],
   "source": [
    "def Sum_of_Two_Numbers(a,b): #Product_of_Two_Numbers is the name of the function and a & b are the two parameters\n",
    "    Result = a+b # Remember sum means addition\n",
    "    return(Result)"
   ]
  },
  {
   "cell_type": "code",
   "execution_count": 9,
   "metadata": {},
   "outputs": [
    {
     "name": "stdout",
     "output_type": "stream",
     "text": [
      "11\n",
      "104\n"
     ]
    }
   ],
   "source": [
    "Answer = Sum_of_Two_Numbers(5,6) # Function is called once by this statement - 5 and 6 are the arguments which are passed into the function\n",
    "print(Answer)\n",
    "Answer = Sum_of_Two_Numbers(100,4) #Function is called a 2nd time\n",
    "print(Answer)"
   ]
  },
  {
   "cell_type": "raw",
   "metadata": {},
   "source": [
    "(2) Write a function which inputs 3 numbers as parameters  and returns the product as a product."
   ]
  },
  {
   "cell_type": "code",
   "execution_count": 1,
   "metadata": {},
   "outputs": [],
   "source": [
    "def Product_of_Three_Numbers(a,b,c): #Product_of_Three_Numbers is the name of the function and a,b,c are the three parameters\n",
    "    Result = a * b* c # Remember product means multiplication\n",
    "    return(Result)"
   ]
  },
  {
   "cell_type": "code",
   "execution_count": 11,
   "metadata": {},
   "outputs": [
    {
     "name": "stdout",
     "output_type": "stream",
     "text": [
      "210\n",
      "400\n"
     ]
    }
   ],
   "source": [
    "Answer = Product_of_Three_Numbers(5,6,7) # Function is called once by this statement - 5,6,7 are the arguments which are passed into the function\n",
    "print(Answer)\n",
    "Answer = Product_of_Three_Numbers(100,4,1) #Function is called a 2nd time\n",
    "print(Answer)"
   ]
  },
  {
   "cell_type": "raw",
   "metadata": {},
   "source": [
    "(3) Write a function which inputs 3 numbers as parameters  and median value as the result. (So, if you have 3 numbers such as 10,5,8 - the median value is 8 as it is the middle value)"
   ]
  },
  {
   "cell_type": "code",
   "execution_count": 14,
   "metadata": {},
   "outputs": [],
   "source": [
    "def Median_of_Three_Values(x,y,z): # The name of the function is Median_of_Three_Values and the parameters are x,y,z\n",
    "    if x < y:\n",
    "        median = y\n",
    "    else: \n",
    "        median = x\n",
    "    if z < median:\n",
    "        median = z\n",
    "    return (median)"
   ]
  },
  {
   "cell_type": "code",
   "execution_count": 17,
   "metadata": {},
   "outputs": [
    {
     "name": "stdout",
     "output_type": "stream",
     "text": [
      "8\n",
      "3\n"
     ]
    }
   ],
   "source": [
    "Result = Median_of_Three_Values(10,5,8)\n",
    "print(Result)\n",
    "Result = Median_of_Three_Values(2,3,4)\n",
    "print(Result)"
   ]
  },
  {
   "cell_type": "raw",
   "metadata": {},
   "source": [
    "(4) Write a Function which takes a number as a parameter and outputs all of the factors"
   ]
  },
  {
   "cell_type": "code",
   "execution_count": 19,
   "metadata": {},
   "outputs": [],
   "source": [
    "def Factors(x):\n",
    "    print(\"The Factors of \", x, \"are:- \")\n",
    "    for j in range(2,x):\n",
    "        if x%j == 0:\n",
    "            print(j)"
   ]
  },
  {
   "cell_type": "code",
   "execution_count": 20,
   "metadata": {},
   "outputs": [
    {
     "name": "stdout",
     "output_type": "stream",
     "text": [
      "The Factors of  20 are:- \n",
      "2\n",
      "4\n",
      "5\n",
      "10\n"
     ]
    }
   ],
   "source": [
    "Factors(20)"
   ]
  },
  {
   "cell_type": "raw",
   "metadata": {},
   "source": [
    "(5) Write a Function which takes a number as a parameter and says whether it is a prime number."
   ]
  },
  {
   "cell_type": "code",
   "execution_count": 26,
   "metadata": {},
   "outputs": [],
   "source": [
    "def Prime_Number(x):\n",
    "    count = 0\n",
    "    for j in range(2,x):\n",
    "        if x%j==0:\n",
    "            count = count +1\n",
    "            break\n",
    "    if count ==0:\n",
    "        print(x, \" is a prime number\")\n",
    "    elif count == 1:\n",
    "        print(x, \" is not a prime numnber\")\n",
    "    else:\n",
    "        (\"Invalid entry\")"
   ]
  },
  {
   "cell_type": "code",
   "execution_count": 27,
   "metadata": {},
   "outputs": [
    {
     "name": "stdout",
     "output_type": "stream",
     "text": [
      "11  is a prime number\n"
     ]
    }
   ],
   "source": [
    "Prime_Number(11)"
   ]
  },
  {
   "cell_type": "code",
   "execution_count": 28,
   "metadata": {},
   "outputs": [
    {
     "name": "stdout",
     "output_type": "stream",
     "text": [
      "32  is not a prime numnber\n"
     ]
    }
   ],
   "source": [
    "Prime_Number(32)"
   ]
  },
  {
   "cell_type": "code",
   "execution_count": null,
   "metadata": {},
   "outputs": [],
   "source": [
    "(6) Write a Function which inputs a Name of a Person and returns a phrase saying \"Hello\" followed by the name of the person"
   ]
  },
  {
   "cell_type": "code",
   "execution_count": 29,
   "metadata": {},
   "outputs": [],
   "source": [
    "def Hello_Name(x):\n",
    "    phrase = \" Hello \" +x\n",
    "    return(phrase)"
   ]
  },
  {
   "cell_type": "code",
   "execution_count": 30,
   "metadata": {},
   "outputs": [
    {
     "data": {
      "text/plain": [
       "' Hello Dee'"
      ]
     },
     "execution_count": 30,
     "metadata": {},
     "output_type": "execute_result"
    }
   ],
   "source": [
    "Hello_Name(\"Dee\")"
   ]
  },
  {
   "cell_type": "markdown",
   "metadata": {},
   "source": [
    "(7) Write a Function which takes a number and returns the square root of that number."
   ]
  },
  {
   "cell_type": "code",
   "execution_count": 8,
   "metadata": {},
   "outputs": [],
   "source": [
    "def Square_Root(x):\n",
    "    Result = x**0.5 #Raising any number to the power 0.5 gives the square root\n",
    "    return(Result)"
   ]
  },
  {
   "cell_type": "code",
   "execution_count": 9,
   "metadata": {},
   "outputs": [
    {
     "name": "stdout",
     "output_type": "stream",
     "text": [
      "4.0\n"
     ]
    }
   ],
   "source": [
    "Answer = Square_Root(16)\n",
    "print(Answer)"
   ]
  },
  {
   "cell_type": "code",
   "execution_count": null,
   "metadata": {},
   "outputs": [],
   "source": []
  }
 ],
 "metadata": {
  "kernelspec": {
   "display_name": "Python 3",
   "language": "python",
   "name": "python3"
  },
  "language_info": {
   "codemirror_mode": {
    "name": "ipython",
    "version": 3
   },
   "file_extension": ".py",
   "mimetype": "text/x-python",
   "name": "python",
   "nbconvert_exporter": "python",
   "pygments_lexer": "ipython3",
   "version": "3.7.4"
  }
 },
 "nbformat": 4,
 "nbformat_minor": 4
}
