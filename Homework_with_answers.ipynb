{
 "cells": [
  {
   "cell_type": "markdown",
   "metadata": {},
   "source": [
    "**Homework**"
   ]
  },
  {
   "cell_type": "markdown",
   "metadata": {},
   "source": [
    "**(1) Write a Program which outputs the sum of three numbers.**"
   ]
  },
  {
   "cell_type": "code",
   "execution_count": 9,
   "metadata": {},
   "outputs": [
    {
     "name": "stdout",
     "output_type": "stream",
     "text": [
      "36\n"
     ]
    }
   ],
   "source": [
    "a = 10\n",
    "b = 12\n",
    "c = 14\n",
    "total = a + b+ c\n",
    "print(total)"
   ]
  },
  {
   "cell_type": "markdown",
   "metadata": {},
   "source": [
    "**(2) Write a Program which calculates the area of a square.**"
   ]
  },
  {
   "cell_type": "code",
   "execution_count": 10,
   "metadata": {},
   "outputs": [
    {
     "name": "stdout",
     "output_type": "stream",
     "text": [
      "Area of the Square is  25  cm squared\n"
     ]
    }
   ],
   "source": [
    "length = 5\n",
    "Area = length * length\n",
    "print(\"Area of the Square is \", Area, \" cm squared\")"
   ]
  },
  {
   "cell_type": "markdown",
   "metadata": {},
   "source": [
    "**(3) Write a Program asks the user to input the length of a cube and outputs the volume**"
   ]
  },
  {
   "cell_type": "code",
   "execution_count": null,
   "metadata": {},
   "outputs": [],
   "source": [
    "length = int(input(\"Enter the length of the cube \"))\n",
    "print()\n",
    "Volume = length**3\n",
    "print(\"The Volume of the cube is \", Volume, \"cm cubed\")"
   ]
  },
  {
   "cell_type": "markdown",
   "metadata": {},
   "source": [
    "**(4) Write a Program which asks the user for their age<br/>\n",
    "if they are 18 or over then the message \"You are old enough to vote \" is displayed <br/>\n",
    "if they are between 0 and 18 years old, the message \"You are too young to vote \" is displayed <br/>\n",
    "otherwise the message \"Invalid Entry\" appears**"
   ]
  },
  {
   "cell_type": "code",
   "execution_count": 1,
   "metadata": {},
   "outputs": [
    {
     "name": "stdin",
     "output_type": "stream",
     "text": [
      "How old are you?  18\n"
     ]
    },
    {
     "name": "stdout",
     "output_type": "stream",
     "text": [
      "Age  18\n",
      "You are old enough to vote\n"
     ]
    }
   ],
   "source": [
    "Age = int(input(\"How old are you? \"))\n",
    "print(\"Age \", Age)\n",
    "if Age >= 18:\n",
    "    print(\"You are old enough to vote\")\n",
    "elif Age < 18:\n",
    "    print(\"You are too young to vote\")\n",
    "else:\n",
    "    print(\"Invalid Entry\")"
   ]
  },
  {
   "cell_type": "markdown",
   "metadata": {},
   "source": [
    "**(5) Write a Program which uses a FOR loop to output the following <br/>\n",
    "0<br/>\n",
    "1<br/>\n",
    "2<br/>\n",
    "3<br/>\n",
    "4<br/>**"
   ]
  },
  {
   "cell_type": "code",
   "execution_count": null,
   "metadata": {},
   "outputs": [],
   "source": [
    "for j in range(0,5):\n",
    "    print(j)"
   ]
  },
  {
   "cell_type": "markdown",
   "metadata": {},
   "source": [
    "**(6) Write a Program which uses a FOR to output the 1st 5 odd numbers.<br/>\n",
    "1<br/>\n",
    "3<br/>\n",
    "5<br/>\n",
    "7<br/>\n",
    "9<br/>**"
   ]
  },
  {
   "cell_type": "code",
   "execution_count": null,
   "metadata": {},
   "outputs": [],
   "source": [
    "for j in range(1,10):\n",
    "    if j%2==1:\n",
    "        print(j)"
   ]
  },
  {
   "cell_type": "markdown",
   "metadata": {},
   "source": [
    "**(7) Write a Program which uses a WHILE loop to output numbers 1-10. <br/>**\n"
   ]
  },
  {
   "cell_type": "code",
   "execution_count": 12,
   "metadata": {},
   "outputs": [
    {
     "name": "stdout",
     "output_type": "stream",
     "text": [
      "1\n",
      "2\n",
      "3\n",
      "4\n",
      "5\n",
      "6\n",
      "7\n",
      "8\n",
      "9\n",
      "10\n"
     ]
    }
   ],
   "source": [
    "j=1\n",
    "while j <=10:\n",
    "    print(j)\n",
    "    j=j+1"
   ]
  },
  {
   "cell_type": "markdown",
   "metadata": {},
   "source": [
    "**(8) Write a Program which asks the user to enter a password between 3 and 5 characters. <br/>\n",
    "Use a WHILE loop for this. <br/>**\n"
   ]
  },
  {
   "cell_type": "code",
   "execution_count": 2,
   "metadata": {},
   "outputs": [
    {
     "name": "stdin",
     "output_type": "stream",
     "text": [
      "Enter a Password between 3 and 5 characters  12\n"
     ]
    },
    {
     "name": "stdout",
     "output_type": "stream",
     "text": [
      "Password  12\n"
     ]
    },
    {
     "name": "stdin",
     "output_type": "stream",
     "text": [
      "Enter a Password between 3 and 5 characters  retrytyt\n"
     ]
    },
    {
     "name": "stdout",
     "output_type": "stream",
     "text": [
      "Password  retrytyt\n"
     ]
    },
    {
     "name": "stdin",
     "output_type": "stream",
     "text": [
      "Enter a Password between 3 and 5 characters  ASDFG\n"
     ]
    },
    {
     "name": "stdout",
     "output_type": "stream",
     "text": [
      "Password  ASDFG\n",
      " I am out of the WHILE loop \n"
     ]
    }
   ],
   "source": [
    "Password = \"\"\n",
    "Active = False\n",
    "while Active == False:\n",
    "    Password = input(\"Enter a Password between 3 and 5 characters \")\n",
    "    print(\"Password \", Password)\n",
    "    if len(Password) >=3 and len(Password) <=5:\n",
    "        Active = True\n",
    "print(\" I am out of the WHILE loop \")"
   ]
  },
  {
   "cell_type": "markdown",
   "metadata": {},
   "source": [
    "**(9) Write a Program which takes as input x=12 and y=99 and output x=99 and y=12**"
   ]
  },
  {
   "cell_type": "code",
   "execution_count": 3,
   "metadata": {},
   "outputs": [
    {
     "name": "stdout",
     "output_type": "stream",
     "text": [
      "Input\n",
      " x  12\n",
      " y  99\n",
      "Output\n",
      " x  99\n",
      " y  12\n"
     ]
    }
   ],
   "source": [
    "x=12\n",
    "y=99\n",
    "print(\"Input\")\n",
    "print(\" x \",x)\n",
    "print(\" y \",y)\n",
    "temp = x\n",
    "x = y\n",
    "y = temp\n",
    "print(\"Output\")\n",
    "print(\" x \",x)\n",
    "print(\" y \", y)"
   ]
  },
  {
   "cell_type": "markdown",
   "metadata": {},
   "source": [
    "**(10)Write a Function called Multiplication which takes two parameters and returns the product of these values**"
   ]
  },
  {
   "cell_type": "code",
   "execution_count": 3,
   "metadata": {},
   "outputs": [],
   "source": [
    "def Multiplication(x,y):\n",
    "    product = x*y\n",
    "    return(product)"
   ]
  },
  {
   "cell_type": "code",
   "execution_count": 4,
   "metadata": {},
   "outputs": [
    {
     "name": "stdout",
     "output_type": "stream",
     "text": [
      "30\n"
     ]
    }
   ],
   "source": [
    "Result=Multiplication(5,6)\n",
    "print(Result)"
   ]
  },
  {
   "cell_type": "markdown",
   "metadata": {},
   "source": [
    "**(11) Write a Function which calculates and returns the Balance of an account after taking two parameters;\n",
    "one parameter being the old balance and the second parameter being the cost of a loaf bread that has been bought.**"
   ]
  },
  {
   "cell_type": "code",
   "execution_count": 3,
   "metadata": {},
   "outputs": [],
   "source": [
    "def New_Balance(Old_Balance, Cost): #Old Balance and Cost are two parameters\n",
    "    Balance = Old_Balance - Cost\n",
    "    return(Balance)"
   ]
  },
  {
   "cell_type": "code",
   "execution_count": 4,
   "metadata": {},
   "outputs": [
    {
     "name": "stdout",
     "output_type": "stream",
     "text": [
      "91\n"
     ]
    }
   ],
   "source": [
    "Result = New_Balance(100,9)\n",
    "print(Result)"
   ]
  },
  {
   "cell_type": "markdown",
   "metadata": {},
   "source": [
    "**(12)Write a Program with more takes a number as a parameter and reports whether it is an even or odd number**"
   ]
  },
  {
   "cell_type": "code",
   "execution_count": 5,
   "metadata": {},
   "outputs": [],
   "source": [
    "def Even_Odd(a):\n",
    "    if a%2 == 0:\n",
    "        print(a, \" is an even number\")\n",
    "    elif a%2 == 1:\n",
    "        print(a, \" is an odd number \")\n",
    "    else:\n",
    "        print(\"Invalid entry\")"
   ]
  },
  {
   "cell_type": "code",
   "execution_count": 6,
   "metadata": {},
   "outputs": [
    {
     "name": "stdout",
     "output_type": "stream",
     "text": [
      "10  is an even number\n"
     ]
    }
   ],
   "source": [
    "Even_Odd(10)"
   ]
  },
  {
   "cell_type": "code",
   "execution_count": 7,
   "metadata": {},
   "outputs": [
    {
     "name": "stdout",
     "output_type": "stream",
     "text": [
      "11  is an odd number \n"
     ]
    }
   ],
   "source": [
    "Even_Odd(11)"
   ]
  },
  {
   "cell_type": "code",
   "execution_count": null,
   "metadata": {},
   "outputs": [],
   "source": []
  }
 ],
 "metadata": {
  "kernelspec": {
   "display_name": "Python 3",
   "language": "python",
   "name": "python3"
  },
  "language_info": {
   "codemirror_mode": {
    "name": "ipython",
    "version": 3
   },
   "file_extension": ".py",
   "mimetype": "text/x-python",
   "name": "python",
   "nbconvert_exporter": "python",
   "pygments_lexer": "ipython3",
   "version": "3.7.4"
  }
 },
 "nbformat": 4,
 "nbformat_minor": 4
}
