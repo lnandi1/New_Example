{
 "cells": [
  {
   "cell_type": "markdown",
   "metadata": {},
   "source": [
    "**Homework**"
   ]
  },
  {
   "cell_type": "markdown",
   "metadata": {},
   "source": [
    "**(1) Write a Program which outputs the sum of three numbers.**"
   ]
  },
  {
   "cell_type": "markdown",
   "metadata": {},
   "source": [
    "**(2) Write a Program which calculates the area of a square.**"
   ]
  },
  {
   "cell_type": "markdown",
   "metadata": {},
   "source": [
    "**(3) Write a Program asks the user to input the length of a cube and outputs the volume**"
   ]
  },
  {
   "cell_type": "markdown",
   "metadata": {},
   "source": [
    "**(4) Write a Program which asks the user for their age<br/>\n",
    "if they are 18 or over then the message \"You are old enough to vote \" is displayed <br/>\n",
    "if they are between 0 and 18 years old, the message \"You are too young to vote \" is displayed <br/>\n",
    "otherwise the message \"Invalid Entry\" appears**"
   ]
  },
  {
   "cell_type": "markdown",
   "metadata": {},
   "source": [
    "**(5) Write a Program which uses a FOR loop to output the following <br/>\n",
    "0<br/>\n",
    "1<br/>\n",
    "2<br/>\n",
    "3<br/>\n",
    "4<br/>**"
   ]
  },
  {
   "cell_type": "markdown",
   "metadata": {},
   "source": [
    "**(6) Write a Program which uses a FOR to output the 1st 5 odd numbers.<br/>\n",
    "1<br/>\n",
    "3<br/>\n",
    "5<br/>\n",
    "7<br/>\n",
    "9<br/>**"
   ]
  },
  {
   "cell_type": "markdown",
   "metadata": {},
   "source": [
    "**(7) Write a Program which uses a WHILE loop to output numbers 1-10. <br/>**\n"
   ]
  },
  {
   "cell_type": "markdown",
   "metadata": {},
   "source": [
    "**(8) Write a Program which asks the user to enter a password between 3 and 5 characters. <br/>\n",
    "Use a WHILE loop for this. <br/>**\n"
   ]
  },
  {
   "cell_type": "markdown",
   "metadata": {},
   "source": [
    "**(9) Write a Program which takes as input x=12 and y=99 and output x=99 and y=12**"
   ]
  },
  {
   "cell_type": "markdown",
   "metadata": {},
   "source": [
    "**(10)Write a Function called Multiplication which takes two parameters and returns the product of these values**"
   ]
  },
  {
   "cell_type": "markdown",
   "metadata": {},
   "source": [
    "**(11) Write a Function which calculates and returns the Balance of an account after taking two parameters;\n",
    "one parameter being the old balance and the second parameter being the cost of a loaf bread that has been bought.**"
   ]
  },
  {
   "cell_type": "markdown",
   "metadata": {},
   "source": [
    "**(12)Write a Program with more takes a number as a parameter and reports whether it is an even or odd number**"
   ]
  },
  {
   "cell_type": "code",
   "execution_count": null,
   "metadata": {},
   "outputs": [],
   "source": []
  }
 ],
 "metadata": {
  "kernelspec": {
   "display_name": "Python 3",
   "language": "python",
   "name": "python3"
  },
  "language_info": {
   "codemirror_mode": {
    "name": "ipython",
    "version": 3
   },
   "file_extension": ".py",
   "mimetype": "text/x-python",
   "name": "python",
   "nbconvert_exporter": "python",
   "pygments_lexer": "ipython3",
   "version": "3.7.4"
  }
 },
 "nbformat": 4,
 "nbformat_minor": 4
}
