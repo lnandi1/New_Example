{
 "cells": [
  {
   "cell_type": "markdown",
   "metadata": {},
   "source": [
    "**1.0 PROGRAMS DEMONSTRATING INPUT & OUTPUT**"
   ]
  },
  {
   "cell_type": "markdown",
   "metadata": {},
   "source": [
    "**(1) Write a Program which takes two numbers and outputs the sum.**"
   ]
  },
  {
   "cell_type": "code",
   "execution_count": 3,
   "metadata": {},
   "outputs": [
    {
     "name": "stdout",
     "output_type": "stream",
     "text": [
      "16\n"
     ]
    }
   ],
   "source": [
    "a = 6\n",
    "b = 10\n",
    "total = a+b  # Note a,b and total are the three variables in this program\n",
    "print(total) # Also note sum means the numbers are added"
   ]
  },
  {
   "cell_type": "markdown",
   "metadata": {},
   "source": [
    "**(2) Write a Program which calculates the circumference of a circle. (Remember Circumference = 2 x PI x Radius)**"
   ]
  },
  {
   "cell_type": "code",
   "execution_count": 1,
   "metadata": {},
   "outputs": [
    {
     "name": "stdout",
     "output_type": "stream",
     "text": [
      "Circumference is  75.408\n"
     ]
    }
   ],
   "source": [
    "PI = 3.142\n",
    "Radius = 12\n",
    "Circumference = 2*PI*Radius\n",
    "print(\"Circumference is \", Circumference)"
   ]
  },
  {
   "cell_type": "markdown",
   "metadata": {},
   "source": [
    "**(3) Write a Program which calculates the area of a rectangle. The length and width of the rectangle are supplied by the user.**"
   ]
  },
  {
   "cell_type": "code",
   "execution_count": null,
   "metadata": {},
   "outputs": [],
   "source": [
    "length = int(input(\"Please enter the length of the rectangle in metres\"))\n",
    "width = int(input(\"Please enter the width of the rectangle in metres\"))\n",
    "Area = length*width\n",
    "print(\"Area of the rectangle is \", Area, \" metre squared\")"
   ]
  },
  {
   "cell_type": "markdown",
   "metadata": {},
   "source": [
    "**2.0 PROGRAMS DEMONSTRATING SELECTION VIA IF STATEMENTS**"
   ]
  },
  {
   "cell_type": "markdown",
   "metadata": {},
   "source": [
    "**(4) Write a Program which asks the user to input a month and if the user enters December, the output is <br/>\n",
    "\" Merry Christmas \" but otherwise the output is \" Not Xmas Yet \"**"
   ]
  },
  {
   "cell_type": "code",
   "execution_count": 4,
   "metadata": {},
   "outputs": [
    {
     "name": "stdin",
     "output_type": "stream",
     "text": [
      " Enter a month December\n"
     ]
    },
    {
     "name": "stdout",
     "output_type": "stream",
     "text": [
      "Month  December\n",
      "Merry Christmas\n"
     ]
    }
   ],
   "source": [
    "Month = input(\" Enter a month\")\n",
    "print(\"Month \", Month)\n",
    "if Month == \"December\":      # This statement is asking is Month equal to \"December\"\n",
    "    print(\"Merry Christmas\") # The IF statement is known as the selection statement\n",
    "else:\n",
    "    print(\"Not Xmas Yet\")"
   ]
  },
  {
   "cell_type": "markdown",
   "metadata": {},
   "source": [
    "**(5) Write a Program which asks the user for the room temperature. <br/>\n",
    "If the temperature is over or equal to 24 degrees Centigrade then output \"the room is too hot\"<br/>\n",
    "If the temperature is between 19 and 24 degrees Centigrade then output \"the temperature is just right\"<br/>\n",
    "or if the temperature is less than or equal to 19 degrees Centigrade then output \"the room is too cold\"\n",
    "else output \"invalid entry\" <br/>**"
   ]
  },
  {
   "cell_type": "code",
   "execution_count": 5,
   "metadata": {},
   "outputs": [
    {
     "name": "stdin",
     "output_type": "stream",
     "text": [
      "Enter the temperature of the room  24\n"
     ]
    },
    {
     "name": "stdout",
     "output_type": "stream",
     "text": [
      "temperature  24\n",
      "the room is too hot\n"
     ]
    }
   ],
   "source": [
    "temperature = int(input(\"Enter the temperature of the room \"))\n",
    "print(\"temperature \", temperature)\n",
    "if temperature >=24:\n",
    "    print(\"the room is too hot\")\n",
    "elif temperature > 19 and temperature < 24:\n",
    "    print(\"the temperature is just right \")\n",
    "elif temperature <=19:\n",
    "    print(\"the room is too cold\")\n",
    "else:\n",
    "    print(\"Invalid Entry\")"
   ]
  },
  {
   "cell_type": "markdown",
   "metadata": {},
   "source": [
    "**3.0 PROGRAMS USING FOR LOOPS**"
   ]
  },
  {
   "cell_type": "markdown",
   "metadata": {},
   "source": [
    "**(6) Write a Program which uses a Count-Countrolled loop (that is a FOR loop) to output the 1st 5 cubed numbers <br/>\n",
    "Output<br/>\n",
    "1<br/>\n",
    "8<br/>\n",
    "27<br/>\n",
    "64<br/>\n",
    "125<br/>**"
   ]
  },
  {
   "cell_type": "code",
   "execution_count": 5,
   "metadata": {},
   "outputs": [
    {
     "name": "stdout",
     "output_type": "stream",
     "text": [
      "1\n",
      "8\n",
      "27\n",
      "64\n",
      "125\n"
     ]
    }
   ],
   "source": [
    "for j in range(1,6):\n",
    "    k = j**3\n",
    "    print(k)"
   ]
  },
  {
   "cell_type": "markdown",
   "metadata": {},
   "source": [
    "**(7) Write a Program which uses a Count-Controlled loop (that is a FOR loop) to output the 1st 4 square numbers<br/>\n",
    "Output<br>\n",
    "1<br/>\n",
    "4<br/>\n",
    "9<br/>\n",
    "16<br/>**\n",
    "\n"
   ]
  },
  {
   "cell_type": "code",
   "execution_count": 6,
   "metadata": {},
   "outputs": [
    {
     "name": "stdout",
     "output_type": "stream",
     "text": [
      "1\n",
      "4\n",
      "9\n",
      "16\n"
     ]
    }
   ],
   "source": [
    "for j in range(1,5):\n",
    "    k=j**2\n",
    "    print(k)"
   ]
  },
  {
   "cell_type": "markdown",
   "metadata": {},
   "source": [
    "**(8) Write a Program which outputs the numbers between 1 and 20 which are divisible by 4. <br/>\n",
    "Output<br/>\n",
    "4<br/>\n",
    "8<br/>\n",
    "12<br/>\n",
    "16<br>\n",
    "20<br>**\n",
    "\n"
   ]
  },
  {
   "cell_type": "code",
   "execution_count": 7,
   "metadata": {},
   "outputs": [
    {
     "name": "stdout",
     "output_type": "stream",
     "text": [
      "4\n",
      "8\n",
      "12\n",
      "16\n",
      "20\n"
     ]
    }
   ],
   "source": [
    "for j in range(1,21):\n",
    "    if j%4==0:\n",
    "        print(j)\n",
    "        \n",
    "        \n",
    "        "
   ]
  },
  {
   "cell_type": "markdown",
   "metadata": {},
   "source": [
    "**4.0 PROGRAM TO SWAP VALUES OF VARIABLES**"
   ]
  },
  {
   "cell_type": "raw",
   "metadata": {},
   "source": [
    "(9) Write a Program which for input has a=99 & b=101 and for output has a=101 & b=99"
   ]
  },
  {
   "cell_type": "code",
   "execution_count": 8,
   "metadata": {},
   "outputs": [
    {
     "name": "stdout",
     "output_type": "stream",
     "text": [
      "\n",
      "Input\n",
      "a  99\n",
      "b  101\n",
      "\n",
      "Output\n",
      "a  101\n",
      "b  99\n"
     ]
    }
   ],
   "source": [
    "a = 99\n",
    "b = 101\n",
    "print(\"\\nInput\")\n",
    "print(\"a \", a)\n",
    "print(\"b \",b)\n",
    "temp = a\n",
    "a = b\n",
    "b = temp\n",
    "print(\"\\nOutput\")\n",
    "print(\"a \", a)\n",
    "print(\"b \",b)"
   ]
  },
  {
   "cell_type": "markdown",
   "metadata": {},
   "source": [
    "**5.0 Programs using WHILE loops**"
   ]
  },
  {
   "cell_type": "markdown",
   "metadata": {},
   "source": [
    "**(10) Write a Program which uses a WHILE loop to output the following numbers. <br/>\n",
    "1<br/>\n",
    "2<br/>\n",
    "3<br/>\n",
    "4<br/>\n",
    "5<br/>**"
   ]
  },
  {
   "cell_type": "code",
   "execution_count": 9,
   "metadata": {},
   "outputs": [
    {
     "name": "stdout",
     "output_type": "stream",
     "text": [
      "1\n",
      "2\n",
      "3\n",
      "4\n",
      "5\n"
     ]
    }
   ],
   "source": [
    "j = 1\n",
    "while j <=5:\n",
    "    print(j)\n",
    "    j = j+1\n",
    "    "
   ]
  },
  {
   "cell_type": "markdown",
   "metadata": {},
   "source": [
    "**(11) Write a Program which uses a WHILE loop to output the following numbers. <br/>\n",
    "2<br/>\n",
    "3<br/>\n",
    "4<br/>**"
   ]
  },
  {
   "cell_type": "code",
   "execution_count": 10,
   "metadata": {},
   "outputs": [
    {
     "name": "stdout",
     "output_type": "stream",
     "text": [
      "2\n",
      "3\n",
      "4\n"
     ]
    }
   ],
   "source": [
    "j = 2\n",
    "while j <5:\n",
    "    print(j)\n",
    "    j=j+1"
   ]
  },
  {
   "cell_type": "markdown",
   "metadata": {},
   "source": [
    "**(12)Write a Program which uses a WHILE loop to ask the user to input a Word and stops asking <br/>\n",
    "types 'quit'.<br/>**"
   ]
  },
  {
   "cell_type": "code",
   "execution_count": 6,
   "metadata": {},
   "outputs": [
    {
     "name": "stdin",
     "output_type": "stream",
     "text": [
      "Enter a Word or Enter 'quit' to exit the WHILE loop    cat\n"
     ]
    },
    {
     "name": "stdout",
     "output_type": "stream",
     "text": [
      "message  cat\n"
     ]
    },
    {
     "name": "stdin",
     "output_type": "stream",
     "text": [
      "Enter a Word or Enter 'quit' to exit the WHILE loop    \n"
     ]
    },
    {
     "name": "stdout",
     "output_type": "stream",
     "text": [
      "message  \n"
     ]
    },
    {
     "name": "stdin",
     "output_type": "stream",
     "text": [
      "Enter a Word or Enter 'quit' to exit the WHILE loop    dog\n"
     ]
    },
    {
     "name": "stdout",
     "output_type": "stream",
     "text": [
      "message  dog\n"
     ]
    },
    {
     "name": "stdin",
     "output_type": "stream",
     "text": [
      "Enter a Word or Enter 'quit' to exit the WHILE loop    quit\n"
     ]
    },
    {
     "name": "stdout",
     "output_type": "stream",
     "text": [
      "message  quit\n",
      "You have entered the word 'quit' and so you are now out of the WHILE loop\n"
     ]
    }
   ],
   "source": [
    "message = \"cat\"\n",
    "while message !=\"quit\":\n",
    "    message = input(\"Enter a Word or Enter 'quit' to exit the WHILE loop   \")\n",
    "    print(\"message \", message)\n",
    "print(\"You have entered the word 'quit' and so you are now out of the WHILE loop\")"
   ]
  },
  {
   "cell_type": "markdown",
   "metadata": {},
   "source": [
    "**(13) Write a Program which asks the user to enter a Password and allows the user to enter a Password <br/>\n",
    "between 4 and 6 characters. <br/>**"
   ]
  },
  {
   "cell_type": "code",
   "execution_count": 7,
   "metadata": {},
   "outputs": [
    {
     "name": "stdin",
     "output_type": "stream",
     "text": [
      "Enter a Password between 4 and 6 characters  123\n"
     ]
    },
    {
     "name": "stdout",
     "output_type": "stream",
     "text": [
      "Password  123\n",
      "Try again\n"
     ]
    },
    {
     "name": "stdin",
     "output_type": "stream",
     "text": [
      "Enter a Password between 4 and 6 characters  asd\n"
     ]
    },
    {
     "name": "stdout",
     "output_type": "stream",
     "text": [
      "Password  asd\n",
      "Try again\n"
     ]
    },
    {
     "name": "stdin",
     "output_type": "stream",
     "text": [
      "Enter a Password between 4 and 6 characters  ASDF\n"
     ]
    },
    {
     "name": "stdout",
     "output_type": "stream",
     "text": [
      "Password  ASDF\n",
      "Well done.\n"
     ]
    }
   ],
   "source": [
    "Password = \" \"\n",
    "Active = False\n",
    "while Active == False:\n",
    "    Password = input(\"Enter a Password between 4 and 6 characters \")\n",
    "    print(\"Password \", Password)\n",
    "    if len(Password) >=4 and len(Password) <=6:\n",
    "        Active=True\n",
    "    else:\n",
    "        print(\"Try again\")\n",
    "print(\"Well done.\")"
   ]
  },
  {
   "cell_type": "markdown",
   "metadata": {},
   "source": [
    "**6.0 PROGRAMS USING FUNCTIONS**"
   ]
  },
  {
   "cell_type": "markdown",
   "metadata": {},
   "source": [
    "**(15) Write a Function called Addition which has two parameters and returns the sum of these values.**"
   ]
  },
  {
   "cell_type": "code",
   "execution_count": 8,
   "metadata": {},
   "outputs": [],
   "source": [
    "def Addition(a,b):  # a and b are the two parameters\n",
    "    Sum = a+b\n",
    "    return(Sum)"
   ]
  },
  {
   "cell_type": "code",
   "execution_count": 9,
   "metadata": {},
   "outputs": [
    {
     "name": "stdout",
     "output_type": "stream",
     "text": [
      "22\n"
     ]
    }
   ],
   "source": [
    "Result = Addition(10,12) # This statement is calling the above function\n",
    "print(Result)"
   ]
  },
  {
   "cell_type": "markdown",
   "metadata": {},
   "source": [
    "**(16) Write a Function called Multiplication which has 3 parameters and returns the product of these values.**"
   ]
  },
  {
   "cell_type": "code",
   "execution_count": 10,
   "metadata": {},
   "outputs": [],
   "source": [
    "def Multiplication(x,y,z): # x,y,z are the three parameters\n",
    "    product = x * y * z    # Remember Product refers to Multiplication\n",
    "    return(product)"
   ]
  },
  {
   "cell_type": "code",
   "execution_count": 11,
   "metadata": {},
   "outputs": [
    {
     "name": "stdout",
     "output_type": "stream",
     "text": [
      "48\n"
     ]
    }
   ],
   "source": [
    "Result = Multiplication(2,4,6) #We are calling the function Multiplication\n",
    "print(Result)"
   ]
  },
  {
   "cell_type": "markdown",
   "metadata": {},
   "source": [
    "**(17) Write a Function called Conversion which takes Centigrade as a Parameter and converts it to Fahrenheit\n",
    "and returns the Fahrenheit. (The Formula for Conversion is Fahrenheit = (Centigrade * 9/5) +32**"
   ]
  },
  {
   "cell_type": "code",
   "execution_count": 12,
   "metadata": {},
   "outputs": [],
   "source": [
    "def Conversion(Centigrade):\n",
    "    Fahrenheit = (Centigrade * 9/5) +32\n",
    "    return(Fahrenheit)\n",
    "    "
   ]
  },
  {
   "cell_type": "code",
   "execution_count": 13,
   "metadata": {},
   "outputs": [
    {
     "name": "stdout",
     "output_type": "stream",
     "text": [
      "32.0\n"
     ]
    }
   ],
   "source": [
    "Result = Conversion(0)\n",
    "print(Result)"
   ]
  },
  {
   "cell_type": "markdown",
   "metadata": {},
   "source": [
    "**7.0 PROGRAMS WHICH HAVE MORE THAN 1 FUNCTION***"
   ]
  },
  {
   "cell_type": "markdown",
   "metadata": {},
   "source": [
    "**(18) Write a Program which asks the user to input two numbers and then asks them whether they want \n",
    "to add, multiply the two numbers. The result of the addition/multiplication is returned.**"
   ]
  },
  {
   "cell_type": "code",
   "execution_count": 19,
   "metadata": {},
   "outputs": [
    {
     "name": "stdin",
     "output_type": "stream",
     "text": [
      " Enter 1st number  3\n"
     ]
    },
    {
     "name": "stdout",
     "output_type": "stream",
     "text": [
      " x  3\n"
     ]
    },
    {
     "name": "stdin",
     "output_type": "stream",
     "text": [
      " Enter 2nd number  4\n"
     ]
    },
    {
     "name": "stdout",
     "output_type": "stream",
     "text": [
      " y  4\n"
     ]
    },
    {
     "name": "stdin",
     "output_type": "stream",
     "text": [
      "Enter 1 if want to add the numbers and 2 if you want to multiply the numbers  2\n"
     ]
    },
    {
     "name": "stdout",
     "output_type": "stream",
     "text": [
      " z  2\n",
      "12\n"
     ]
    }
   ],
   "source": [
    "def Addition(a,b):\n",
    "    Total = a+b\n",
    "    return(Total)\n",
    "\n",
    "\n",
    "def Multiplication(a,b):\n",
    "    Total = a * b\n",
    "    return(Total)\n",
    "\n",
    "def Menu():\n",
    "    x = int(input(\" Enter 1st number \"))\n",
    "    print(\" x \",x)\n",
    "    y = int(input(\" Enter 2nd number \"))\n",
    "    print(\" y \",y)\n",
    "    z = input(\"Enter 1 if want to add the numbers and 2 if you want to multiply the numbers \")\n",
    "    print(\" z \",z)\n",
    "    if z == \"1\":\n",
    "        Result = Addition(x,y)\n",
    "    elif z == \"2\":\n",
    "        Result = Multiplication(x,y)\n",
    "    else:\n",
    "        print(\"Invalid Entry\")\n",
    "    print(Result)\n",
    "    \n",
    "Menu()\n",
    "    \n",
    "    \n",
    "\n",
    "\n",
    "    \n",
    "    \n",
    "    "
   ]
  },
  {
   "cell_type": "code",
   "execution_count": null,
   "metadata": {},
   "outputs": [],
   "source": []
  }
 ],
 "metadata": {
  "kernelspec": {
   "display_name": "Python 3",
   "language": "python",
   "name": "python3"
  },
  "language_info": {
   "codemirror_mode": {
    "name": "ipython",
    "version": 3
   },
   "file_extension": ".py",
   "mimetype": "text/x-python",
   "name": "python",
   "nbconvert_exporter": "python",
   "pygments_lexer": "ipython3",
   "version": "3.7.4"
  }
 },
 "nbformat": 4,
 "nbformat_minor": 4
}
