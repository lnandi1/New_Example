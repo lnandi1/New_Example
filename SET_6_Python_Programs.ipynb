{
 "cells": [
  {
   "cell_type": "markdown",
   "metadata": {},
   "source": [
    "*** SET 6 PROGRAMS ***"
   ]
  },
  {
   "cell_type": "raw",
   "metadata": {},
   "source": [
    "(1) Write a Function which inputs 2 numbers as parameters and returns the smaller number as the result."
   ]
  },
  {
   "cell_type": "code",
   "execution_count": 1,
   "metadata": {},
   "outputs": [],
   "source": [
    "def Smaller_Number(a,b):\n",
    "    if a < b:\n",
    "        smaller = a\n",
    "    else:\n",
    "        smaller = b\n",
    "    return(smaller)"
   ]
  },
  {
   "cell_type": "code",
   "execution_count": 2,
   "metadata": {},
   "outputs": [
    {
     "name": "stdout",
     "output_type": "stream",
     "text": [
      "100\n"
     ]
    }
   ],
   "source": [
    "Result = Smaller_Number(100,200)\n",
    "print(Result)"
   ]
  },
  {
   "cell_type": "code",
   "execution_count": 3,
   "metadata": {},
   "outputs": [
    {
     "name": "stdout",
     "output_type": "stream",
     "text": [
      "66\n"
     ]
    }
   ],
   "source": [
    "Result = Smaller_Number(99,66)\n",
    "print(Result)"
   ]
  },
  {
   "cell_type": "code",
   "execution_count": null,
   "metadata": {},
   "outputs": [],
   "source": [
    "(2) There are 3 rivers and you want to know which of these is the smallest in length. Write a Function which inputs the 3 lengths as parameters\n",
    "and returns the smallest number as the result."
   ]
  },
  {
   "cell_type": "code",
   "execution_count": 1,
   "metadata": {},
   "outputs": [],
   "source": [
    "def Smallest_of_Three(a,b,c):\n",
    "    if a < b:\n",
    "        smallest = a\n",
    "    else:\n",
    "        smallest = b\n",
    "        \n",
    "    if c < smallest:\n",
    "        smallest = c\n",
    "    return(smallest)"
   ]
  },
  {
   "cell_type": "code",
   "execution_count": 2,
   "metadata": {},
   "outputs": [
    {
     "name": "stdout",
     "output_type": "stream",
     "text": [
      "99\n"
     ]
    }
   ],
   "source": [
    "Result = Smallest_of_Three(100,99,201)\n",
    "print(Result)"
   ]
  },
  {
   "cell_type": "code",
   "execution_count": 4,
   "metadata": {},
   "outputs": [
    {
     "name": "stdout",
     "output_type": "stream",
     "text": [
      "44\n"
     ]
    }
   ],
   "source": [
    "Result = Smallest_of_Three(77,301, 44)\n",
    "print(Result)"
   ]
  },
  {
   "cell_type": "raw",
   "metadata": {},
   "source": [
    "(3) Write a Function which generates 3 random numbers between 2 and 6, and returns the product of these numbers."
   ]
  },
  {
   "cell_type": "code",
   "execution_count": 6,
   "metadata": {},
   "outputs": [],
   "source": [
    "import random\n",
    "def Product_of_Three_Numbers(x,y,z):\n",
    "    x = random.randint(2,6)\n",
    "    y = random.randint(2,6)\n",
    "    z = random.randint(2,6)\n",
    "    Answer = x*y*z\n",
    "    return(Answer)"
   ]
  },
  {
   "cell_type": "code",
   "execution_count": 7,
   "metadata": {},
   "outputs": [
    {
     "name": "stdout",
     "output_type": "stream",
     "text": [
      "150\n"
     ]
    }
   ],
   "source": [
    "Result = Product_of_Three_Numbers(2,3,4)\n",
    "print(Result)"
   ]
  },
  {
   "cell_type": "markdown",
   "metadata": {},
   "source": [
    "(4) You are at the airport and your suitcase is being weighed. If your suitcase weighs 23kg or less then the system reports \"Your luggage is of the Correct Weight\" else if your suitcase is over 23kg, the system reports a message saying \"Your luggage is too heavy\". Write a Function to reflect this."
   ]
  },
  {
   "cell_type": "code",
   "execution_count": 8,
   "metadata": {},
   "outputs": [],
   "source": [
    "def Suitcase_Weight(x):\n",
    "    print(\"Suitcase weighs \", x, \" kg\")\n",
    "    if x <= 23:\n",
    "        print(\"Your suitcase is of the correct weight\")\n",
    "    elif x > 23:\n",
    "        print(\"Your luggage is too heavy\")\n",
    "    else:\n",
    "        print(\"Invalid entry\")\n",
    "        "
   ]
  },
  {
   "cell_type": "code",
   "execution_count": 10,
   "metadata": {},
   "outputs": [
    {
     "name": "stdout",
     "output_type": "stream",
     "text": [
      "Suitcase weighs  19  kg\n",
      "Your suitcase is of the correct weight\n"
     ]
    }
   ],
   "source": [
    "Suitcase_Weight(19)"
   ]
  },
  {
   "cell_type": "code",
   "execution_count": 11,
   "metadata": {},
   "outputs": [
    {
     "name": "stdout",
     "output_type": "stream",
     "text": [
      "Suitcase weighs  26  kg\n",
      "Your luggage is too heavy\n"
     ]
    }
   ],
   "source": [
    "Suitcase_Weight(26)"
   ]
  },
  {
   "cell_type": "code",
   "execution_count": null,
   "metadata": {},
   "outputs": [],
   "source": [
    "(5) Write a Function which asks you for your favourite city as a parameter and returns a phrase saying \"My Favourite city is \" & then the name of the city"
   ]
  },
  {
   "cell_type": "code",
   "execution_count": 15,
   "metadata": {},
   "outputs": [],
   "source": [
    "def Favourite_City(City):\n",
    "    Phrase = \"My Favourite City is \" +City\n",
    "    return(Phrase)"
   ]
  },
  {
   "cell_type": "code",
   "execution_count": 16,
   "metadata": {},
   "outputs": [
    {
     "name": "stdout",
     "output_type": "stream",
     "text": [
      "My Favourite City is London\n"
     ]
    }
   ],
   "source": [
    "Result = Favourite_City(\"London\")\n",
    "print(Result)"
   ]
  },
  {
   "cell_type": "code",
   "execution_count": null,
   "metadata": {},
   "outputs": [],
   "source": [
    "(6) Write a Function which outputs the following numbers. (Hint: you need a FOR loop for this and also note that the numbers are cubed numbers)"
   ]
  },
  {
   "cell_type": "code",
   "execution_count": 24,
   "metadata": {},
   "outputs": [],
   "source": [
    "def Cubed_Numbers():\n",
    "    for j in range(0,5):\n",
    "        k = 3**j\n",
    "        print(k)"
   ]
  },
  {
   "cell_type": "code",
   "execution_count": 25,
   "metadata": {},
   "outputs": [
    {
     "name": "stdout",
     "output_type": "stream",
     "text": [
      "1\n",
      "3\n",
      "9\n",
      "27\n",
      "81\n"
     ]
    }
   ],
   "source": [
    "Cubed_Numbers()"
   ]
  },
  {
   "cell_type": "code",
   "execution_count": null,
   "metadata": {},
   "outputs": [],
   "source": [
    "(7) Write a Function which takes the temperature in Fahrenheit as a parameter and returns the equivalent value in \n",
    "Centigrade. (The formula for conversion is Centigrade = (Fahrenheit-32)*5/9))"
   ]
  },
  {
   "cell_type": "code",
   "execution_count": 1,
   "metadata": {},
   "outputs": [],
   "source": [
    "def Conversion_Centigrade(F):\n",
    "    Centigrade = ((F-32)*5/9)\n",
    "    return(F,Centigrade)"
   ]
  },
  {
   "cell_type": "code",
   "execution_count": 2,
   "metadata": {},
   "outputs": [
    {
     "name": "stdout",
     "output_type": "stream",
     "text": [
      "32  Fahrenheit is  0.0  Centigrade\n"
     ]
    }
   ],
   "source": [
    "F1, C1 = Conversion_Centigrade(32)\n",
    "print(F1, \" Fahrenheit is \", C1, \" Centigrade\")"
   ]
  },
  {
   "cell_type": "raw",
   "metadata": {},
   "source": [
    "(8)You have won a million pounds in a competition. You have decided to invest it into a fund \n",
    "which generates 8% per annum. Write a function which inputs a million pounds as a parameter\n",
    "and outputs how much money the fund would be worth in 1 years time, 2 years time and so on and \n",
    "so forth until the 10th year is reached."
   ]
  },
  {
   "cell_type": "code",
   "execution_count": 7,
   "metadata": {},
   "outputs": [],
   "source": [
    "def Amount(x):\n",
    "    print(\"We start with \", x, \" Pounds\")\n",
    "    Sum = 0\n",
    "    for j in range(1,11):\n",
    "        Sum = (Sum + (0.08*x))+x\n",
    "        print(\"Amount after \", j, \" year is \", Sum, \"Pounds\")"
   ]
  },
  {
   "cell_type": "code",
   "execution_count": 8,
   "metadata": {},
   "outputs": [
    {
     "name": "stdout",
     "output_type": "stream",
     "text": [
      "We start with  1000000  Pounds\n",
      "Amount after  1  year is  1080000.0 Pounds\n",
      "Amount after  2  year is  2160000.0 Pounds\n",
      "Amount after  3  year is  3240000.0 Pounds\n",
      "Amount after  4  year is  4320000.0 Pounds\n",
      "Amount after  5  year is  5400000.0 Pounds\n",
      "Amount after  6  year is  6480000.0 Pounds\n",
      "Amount after  7  year is  7560000.0 Pounds\n",
      "Amount after  8  year is  8640000.0 Pounds\n",
      "Amount after  9  year is  9720000.0 Pounds\n",
      "Amount after  10  year is  10800000.0 Pounds\n"
     ]
    }
   ],
   "source": [
    "Amount(1000000)"
   ]
  },
  {
   "cell_type": "code",
   "execution_count": null,
   "metadata": {},
   "outputs": [],
   "source": []
  }
 ],
 "metadata": {
  "kernelspec": {
   "display_name": "Python 3",
   "language": "python",
   "name": "python3"
  },
  "language_info": {
   "codemirror_mode": {
    "name": "ipython",
    "version": 3
   },
   "file_extension": ".py",
   "mimetype": "text/x-python",
   "name": "python",
   "nbconvert_exporter": "python",
   "pygments_lexer": "ipython3",
   "version": "3.7.4"
  }
 },
 "nbformat": 4,
 "nbformat_minor": 4
}
