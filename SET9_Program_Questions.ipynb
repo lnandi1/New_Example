{
 "cells": [
  {
   "cell_type": "markdown",
   "metadata": {},
   "source": [
    "### (1) Study the following Function called Addition which adds 3 numbers and returns the result. This function has the 3 parameters.###"
   ]
  },
  {
   "cell_type": "code",
   "execution_count": 12,
   "metadata": {},
   "outputs": [],
   "source": [
    "def Addition(a,b,c):\n",
    "    Total = a+b+c\n",
    "    return(Total)"
   ]
  },
  {
   "cell_type": "code",
   "execution_count": 13,
   "metadata": {},
   "outputs": [
    {
     "name": "stdout",
     "output_type": "stream",
     "text": [
      "60\n"
     ]
    }
   ],
   "source": [
    "Result = Addition(10,20,30)\n",
    "print(Result)"
   ]
  },
  {
   "cell_type": "markdown",
   "metadata": {},
   "source": [
    "### (2) Now write a function called Multiplication which multiplies 3 numbers and returns the result. This function has 3 parameters. ###"
   ]
  },
  {
   "cell_type": "code",
   "execution_count": null,
   "metadata": {},
   "outputs": [],
   "source": []
  },
  {
   "cell_type": "markdown",
   "metadata": {},
   "source": [
    "### (3)Study the Following Function in which an user inputs 3 integers which are then stored them in a list. ###"
   ]
  },
  {
   "cell_type": "code",
   "execution_count": 14,
   "metadata": {},
   "outputs": [],
   "source": [
    "def Storing_List():\n",
    "    List_Integers = []    #Creating an Empty List called List_Integers\n",
    "    for j in range(3):\n",
    "        Number = int(input(\"Enter an integer\"))\n",
    "        List_Integers.append(Number)     #This statement adds the number inputted to List_Integers\n",
    "    print(\"The new List is\", List_Integers)\n",
    "        "
   ]
  },
  {
   "cell_type": "code",
   "execution_count": null,
   "metadata": {},
   "outputs": [],
   "source": [
    "Storing_List()"
   ]
  },
  {
   "cell_type": "markdown",
   "metadata": {},
   "source": [
    "### (4) Now Write a Function called Creating_List in which an user inputs 4 integers which are then stored in a list ###"
   ]
  },
  {
   "cell_type": "markdown",
   "metadata": {},
   "source": [
    "### (5) Now write a Function called Calculating_Sum which asks the user to input 3 numbers, stores them in a list and returns the sum of the numbers. Hint: you may need to use the sum method for lists on this. Note: sum[A] = 20 where A= [5,15]###"
   ]
  },
  {
   "cell_type": "markdown",
   "metadata": {},
   "source": [
    "### (6) Now write a Function called Calculating_Average which asks the user to input 3 numbers and stores them in a list and prints out the numbers in reverse. ###\n"
   ]
  },
  {
   "cell_type": "markdown",
   "metadata": {},
   "source": [
    "### (7) Study the following Function Rolling_Dice where 2 dice are rolled and the output is the larger number ###"
   ]
  },
  {
   "cell_type": "code",
   "execution_count": null,
   "metadata": {},
   "outputs": [],
   "source": [
    "import random\n",
    "def Rolling_Dice():\n",
    "    Dice1 = random.randint(1,6)\n",
    "    print(\"Dice1 \", Dice1)\n",
    "    Dice2 = random.randint(1,6)\n",
    "    print(\"Dice2 \", Dice2)\n",
    "    if Dice1 > Dice2:\n",
    "          print(\"Dice 1 has won with the number \", Dice1)\n",
    "    else:\n",
    "          print(\"Dice 2 has won with the number \", Dice2)\n",
    "    "
   ]
  },
  {
   "cell_type": "code",
   "execution_count": null,
   "metadata": {},
   "outputs": [],
   "source": [
    "Rolling_Dice()"
   ]
  },
  {
   "cell_type": "markdown",
   "metadata": {},
   "source": [
    "### (8) Now write a Function called Roll_Dice where 2 dice are rolled and the sum of the numbers rolled is returned###"
   ]
  },
  {
   "cell_type": "markdown",
   "metadata": {},
   "source": [
    "### (9) Write a Function called Odd_Even which asks the user to input a number and reports whether it is odd or even. ###"
   ]
  },
  {
   "cell_type": "markdown",
   "metadata": {},
   "source": [
    "### (10)Write a Function called Multiple_of_Three which asks the user to input a number and reports whether it is a multiple of 3.###"
   ]
  },
  {
   "cell_type": "code",
   "execution_count": null,
   "metadata": {},
   "outputs": [],
   "source": []
  }
 ],
 "metadata": {
  "kernelspec": {
   "display_name": "Python 3",
   "language": "python",
   "name": "python3"
  },
  "language_info": {
   "codemirror_mode": {
    "name": "ipython",
    "version": 3
   },
   "file_extension": ".py",
   "mimetype": "text/x-python",
   "name": "python",
   "nbconvert_exporter": "python",
   "pygments_lexer": "ipython3",
   "version": "3.7.4"
  }
 },
 "nbformat": 4,
 "nbformat_minor": 2
}
