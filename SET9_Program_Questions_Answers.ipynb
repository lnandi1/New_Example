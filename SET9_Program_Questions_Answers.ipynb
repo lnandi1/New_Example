{
 "cells": [
  {
   "cell_type": "markdown",
   "metadata": {},
   "source": [
    "### (1) Study the following Function called Addition which adds 3 numbers and returns the result. This function has the 3 parameters.###"
   ]
  },
  {
   "cell_type": "code",
   "execution_count": 12,
   "metadata": {},
   "outputs": [],
   "source": [
    "def Addition(a,b,c):\n",
    "    Total = a+b+c\n",
    "    return(Total)"
   ]
  },
  {
   "cell_type": "code",
   "execution_count": 13,
   "metadata": {},
   "outputs": [
    {
     "name": "stdout",
     "output_type": "stream",
     "text": [
      "60\n"
     ]
    }
   ],
   "source": [
    "Result = Addition(10,20,30)\n",
    "print(Result)"
   ]
  },
  {
   "cell_type": "markdown",
   "metadata": {},
   "source": [
    "### (2) Now write a function called Multiplication which multiplies 3 numbers and returns the result. This function has 3 parameters. ###"
   ]
  },
  {
   "cell_type": "code",
   "execution_count": 2,
   "metadata": {},
   "outputs": [],
   "source": [
    "def Multiplication(a,b,c):\n",
    "    Product = a*b*c\n",
    "    return(Product)"
   ]
  },
  {
   "cell_type": "code",
   "execution_count": 3,
   "metadata": {},
   "outputs": [
    {
     "name": "stdout",
     "output_type": "stream",
     "text": [
      "Result of Multiplication  6000\n"
     ]
    }
   ],
   "source": [
    "Result = Multiplication(10,20,30)\n",
    "print(\"Result of Multiplication \", Result)"
   ]
  },
  {
   "cell_type": "markdown",
   "metadata": {},
   "source": [
    "### (3)Study the Following Function in which an user inputs 3 integers which are then stored them in a list. ###"
   ]
  },
  {
   "cell_type": "code",
   "execution_count": 4,
   "metadata": {},
   "outputs": [],
   "source": [
    "def Storing_List():\n",
    "    List_Integers = []    #Creating an Empty List called List_Integers\n",
    "    for j in range(3):\n",
    "        Number = int(input(\"Enter an integer\"))\n",
    "        List_Integers.append(Number)     #This statement adds the number inputted to List_Integers\n",
    "    print(\"The new List is\", List_Integers)\n",
    "        "
   ]
  },
  {
   "cell_type": "code",
   "execution_count": 5,
   "metadata": {},
   "outputs": [
    {
     "name": "stdout",
     "output_type": "stream",
     "text": [
      "Enter an integer10\n",
      "Enter an integer20\n",
      "Enter an integer40\n",
      "The new List is [10, 20, 40]\n"
     ]
    }
   ],
   "source": [
    "Storing_List()"
   ]
  },
  {
   "cell_type": "markdown",
   "metadata": {},
   "source": [
    "### (4) Now Write a Function called Creating_List in which an user inputs 4 integers which are then stored in a list ###"
   ]
  },
  {
   "cell_type": "code",
   "execution_count": 8,
   "metadata": {},
   "outputs": [],
   "source": [
    "def Creating_List():\n",
    "    New_List = []\n",
    "    for j in range(4):\n",
    "        Number = int(input(\"Enter an integer \"))\n",
    "        New_List.append(Number)\n",
    "    print(\"The new list is \", New_List)"
   ]
  },
  {
   "cell_type": "code",
   "execution_count": 9,
   "metadata": {},
   "outputs": [
    {
     "name": "stdout",
     "output_type": "stream",
     "text": [
      "Enter an integer 1\n",
      "Enter an integer 2\n",
      "Enter an integer 3\n",
      "Enter an integer 4\n",
      "The new list is  [1, 2, 3, 4]\n"
     ]
    }
   ],
   "source": [
    "Creating_List()"
   ]
  },
  {
   "cell_type": "markdown",
   "metadata": {},
   "source": [
    "### (5) Now write a Function called Calculating_Sum which asks the user to input 3 numbers, stores them in a list and returns the sum of the numbers. Hint: you may need to use the sum method for lists on this. Note: sum(A) = 20 where A= [5,15]###"
   ]
  },
  {
   "cell_type": "code",
   "execution_count": 14,
   "metadata": {},
   "outputs": [],
   "source": [
    "def Calculating_Sum():\n",
    "    New_List = []\n",
    "    for j in range(3):\n",
    "        Number = int(input(\"Enter an integer \"))\n",
    "        New_List.append(Number)\n",
    "    print(\"The new list \", New_List)\n",
    "    print(\"The sum of the numbers is \", sum(New_List))"
   ]
  },
  {
   "cell_type": "code",
   "execution_count": 15,
   "metadata": {},
   "outputs": [
    {
     "name": "stdout",
     "output_type": "stream",
     "text": [
      "Enter an integer 10\n",
      "Enter an integer 11\n",
      "Enter an integer 12\n",
      "The new list  [10, 11, 12]\n",
      "The sum of the numbers is  33\n"
     ]
    }
   ],
   "source": [
    "Calculating_Sum()"
   ]
  },
  {
   "cell_type": "markdown",
   "metadata": {},
   "source": [
    "### (6) Now write a Function called Calculating_Average which asks the user to input 3 numbers and stores them in a list and prints out the average of the numbers. ###\n"
   ]
  },
  {
   "cell_type": "code",
   "execution_count": 16,
   "metadata": {},
   "outputs": [],
   "source": [
    "def Calculating_Average():\n",
    "    New_List =[]\n",
    "    for j in range(3):\n",
    "        Number = int(input(\"Please enter an integer\"))\n",
    "        New_List.append(Number)\n",
    "        \n",
    "    print(\"List \", New_List)\n",
    "    print(\"Sum \", sum(New_List))\n",
    "    print(\"Average \", sum(New_List)/len(New_List))"
   ]
  },
  {
   "cell_type": "code",
   "execution_count": 17,
   "metadata": {},
   "outputs": [
    {
     "name": "stdout",
     "output_type": "stream",
     "text": [
      "Please enter an integer2\n",
      "Please enter an integer3\n",
      "Please enter an integer4\n",
      "List  [2, 3, 4]\n",
      "Sum  9\n",
      "Average  3.0\n"
     ]
    }
   ],
   "source": [
    "Calculating_Average()"
   ]
  },
  {
   "cell_type": "markdown",
   "metadata": {},
   "source": [
    "### (7) Study the following Function Rolling_Dice where 2 dice are rolled and the output is the larger number ###"
   ]
  },
  {
   "cell_type": "code",
   "execution_count": null,
   "metadata": {},
   "outputs": [],
   "source": [
    "import random\n",
    "def Rolling_Dice():\n",
    "    Dice1 = random.randint(1,6)\n",
    "    print(\"Dice1 \", Dice1)\n",
    "    Dice2 = random.randint(1,6)\n",
    "    print(\"Dice2 \", Dice2)\n",
    "    if Dice1 > Dice2:\n",
    "          print(\"Dice 1 has won with the number \", Dice1)\n",
    "    else:\n",
    "          print(\"Dice 2 has won with the number \", Dice2)\n",
    "    "
   ]
  },
  {
   "cell_type": "code",
   "execution_count": null,
   "metadata": {},
   "outputs": [],
   "source": [
    "Rolling_Dice()"
   ]
  },
  {
   "cell_type": "markdown",
   "metadata": {},
   "source": [
    "### (8) Now write a Function called Roll_Dice where 2 dice are rolled and the sum of the numbers rolled is returned###"
   ]
  },
  {
   "cell_type": "code",
   "execution_count": 19,
   "metadata": {},
   "outputs": [],
   "source": [
    "import random\n",
    "def Rolling_Dice():\n",
    "    Dice1 = random.randint(1,6)\n",
    "    print(\"Dice1 \", Dice1)\n",
    "    Dice2 = random.randint(1,6)\n",
    "    print(\"Dice2 \", Dice2)\n",
    "    Total = Dice1 + Dice2\n",
    "    return(Total)\n",
    "    "
   ]
  },
  {
   "cell_type": "code",
   "execution_count": 20,
   "metadata": {
    "scrolled": true
   },
   "outputs": [
    {
     "name": "stdout",
     "output_type": "stream",
     "text": [
      "Dice1  1\n",
      "Dice2  2\n",
      "Result  3\n"
     ]
    }
   ],
   "source": [
    "Result = Rolling_Dice()\n",
    "print(\"Result \", Result)"
   ]
  },
  {
   "cell_type": "markdown",
   "metadata": {},
   "source": [
    "### (9) Write a Function called Odd_Even which asks the user to input a number and reports whether it is odd or even. ###"
   ]
  },
  {
   "cell_type": "code",
   "execution_count": 23,
   "metadata": {},
   "outputs": [],
   "source": [
    "def Odd_Even():\n",
    "    Number = int(input(\"Enter a number \"))\n",
    "    if Number%2==0:\n",
    "        print(Number, \" is an even number \")\n",
    "    else:\n",
    "        print(Number, \" is an odd number\")"
   ]
  },
  {
   "cell_type": "code",
   "execution_count": 24,
   "metadata": {
    "scrolled": true
   },
   "outputs": [
    {
     "name": "stdout",
     "output_type": "stream",
     "text": [
      "Enter a number 18\n",
      "18  is an even number \n"
     ]
    }
   ],
   "source": [
    "Odd_Even()"
   ]
  },
  {
   "cell_type": "markdown",
   "metadata": {},
   "source": [
    "### (10)Write a Function called Multiple_of_Three which asks the user to input a number and reports whether it is a multiple of 3.###"
   ]
  },
  {
   "cell_type": "code",
   "execution_count": 26,
   "metadata": {},
   "outputs": [],
   "source": [
    "def Multiple_of_Three():\n",
    "    Number = int(input(\"Enter a number \"))\n",
    "    if Number%3==0:\n",
    "        print(Number, \" is a multiple of 3 \")\n",
    "    else:\n",
    "        print(Number, \" is not a multiple of 3\")"
   ]
  },
  {
   "cell_type": "code",
   "execution_count": 28,
   "metadata": {},
   "outputs": [
    {
     "name": "stdout",
     "output_type": "stream",
     "text": [
      "Enter a number 36\n",
      "36  is a multiple of 3 \n"
     ]
    }
   ],
   "source": [
    "Multiple_of_Three()"
   ]
  },
  {
   "cell_type": "code",
   "execution_count": null,
   "metadata": {},
   "outputs": [],
   "source": []
  }
 ],
 "metadata": {
  "kernelspec": {
   "display_name": "Python 3",
   "language": "python",
   "name": "python3"
  },
  "language_info": {
   "codemirror_mode": {
    "name": "ipython",
    "version": 3
   },
   "file_extension": ".py",
   "mimetype": "text/x-python",
   "name": "python",
   "nbconvert_exporter": "python",
   "pygments_lexer": "ipython3",
   "version": "3.7.4"
  }
 },
 "nbformat": 4,
 "nbformat_minor": 2
}
